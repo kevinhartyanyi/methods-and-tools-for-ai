{
  "nbformat": 4,
  "nbformat_minor": 0,
  "metadata": {
    "colab": {
      "name": "Linear regression.ipynb",
      "provenance": [],
      "collapsed_sections": [],
      "toc_visible": true
    },
    "kernelspec": {
      "name": "python3",
      "display_name": "Python 3"
    }
  },
  "cells": [
    {
      "cell_type": "markdown",
      "metadata": {
        "id": "2pKobZd0KxwP",
        "colab_type": "text"
      },
      "source": [
        "\n",
        "**Created by:**\n",
        "\n",
        "__[Viktor Varga](https://github.com/vvarga90)__\n",
        "\n",
        "**Translated by:**\n",
        "\n",
        "__Gulyás János Adrián__\n",
        "\n",
        "<br>\n",
        "\n",
        "<img src=\"https://docs.google.com/uc?export=download&id=1WzgXsCoz8O-NeBlJTbuLPC1iIFDmgYt1\" style=\"display:inline-block\">\n",
        "<hr>"
      ]
    },
    {
      "cell_type": "markdown",
      "metadata": {
        "id": "UPNGQgO6aXtZ",
        "colab_type": "text"
      },
      "source": [
        "# Linear regression using gradient descent"
      ]
    },
    {
      "cell_type": "markdown",
      "metadata": {
        "id": "EaVq4W9qOIIv",
        "colab_type": "text"
      },
      "source": [
        "Source of the databases at: http://www.dcc.fc.up.pt/~ltorgo/Regression/DataSets.html"
      ]
    },
    {
      "cell_type": "markdown",
      "metadata": {
        "id": "9xF9psXQKgN7",
        "colab_type": "text"
      },
      "source": [
        "Imports"
      ]
    },
    {
      "cell_type": "code",
      "metadata": {
        "id": "eugRKr5_Kf7c",
        "colab_type": "code",
        "colab": {}
      },
      "source": [
        "import numpy as np\n",
        "import urllib.request\n",
        "\n",
        "import matplotlib.pyplot as plt"
      ],
      "execution_count": null,
      "outputs": []
    },
    {
      "cell_type": "markdown",
      "metadata": {
        "id": "Y_tZc4QSbeev",
        "colab_type": "text"
      },
      "source": [
        "Feature scaling methods: one for calculating the average and the deviation of each feature, which will be used for normalizing the input, and another one that normalizes an input based on the already calculated average and deviation."
      ]
    },
    {
      "cell_type": "code",
      "metadata": {
        "id": "L2pQ3lkUbhcv",
        "colab_type": "code",
        "colab": {}
      },
      "source": [
        "def std_normalization(data):\n",
        "    # params: data: ndarray(n_samples, n_features)\n",
        "    data = np.asarray(data, dtype=np.float64)\n",
        "    eps = 0.0000001\n",
        "    x_mean = np.mean(data, axis=0)\n",
        "    x_std = np.std(data, axis=0)\n",
        "    x_norm = (data-x_mean) / (x_std + eps)\n",
        "    \n",
        "    return x_norm, x_mean, x_std\n",
        "  \n",
        "def std_normalize_with_given_meanstd(data, x_mean, x_std):\n",
        "    eps = 0.0000001\n",
        "    x_norm = (data-x_mean) / (x_std + eps)\n",
        "    return x_norm"
      ],
      "execution_count": null,
      "outputs": []
    },
    {
      "cell_type": "markdown",
      "metadata": {
        "id": "b8DWij2kFZRu",
        "colab_type": "text"
      },
      "source": [
        "Loading in the data (\"Wine Quality Data Set\" from the UCI ML repository).\n",
        "\n",
        "**Exercise:** Let's rate the quality of wines on a scale from 1 to 10 based on the wine's chemical composition."
      ]
    },
    {
      "cell_type": "code",
      "metadata": {
        "id": "Iuxqk43jFPCG",
        "colab_type": "code",
        "colab": {}
      },
      "source": [
        "url = 'https://raw.githubusercontent.com/vvarga90/dlmatek_public_files/master/winequality-red.csv'\n",
        "\n",
        "ftpstream = urllib.request.urlopen(url)\n",
        "content_reg = ftpstream.read().decode('utf-8')"
      ],
      "execution_count": null,
      "outputs": []
    },
    {
      "cell_type": "markdown",
      "metadata": {
        "id": "M_XRgr1mJFhs",
        "colab_type": "text"
      },
      "source": [
        "Processing data: from text file to numpy array."
      ]
    },
    {
      "cell_type": "code",
      "metadata": {
        "id": "dPMWRt5qHfDy",
        "colab_type": "code",
        "colab": {
          "base_uri": "https://localhost:8080/",
          "height": 112
        },
        "outputId": "3219cc84-b649-4819-cf7c-b8744611d397"
      },
      "source": [
        "lines = content_reg.split('\\n')\n",
        "words = [line.split(';') for line in lines]\n",
        "attr_names = words[0]\n",
        "data = words[1:1001]\n",
        "data = [[float(item) for item in rec] for rec in data]\n",
        "data = np.array(data, dtype=np.float32)\n",
        "\n",
        "features = data[:,:-1]\n",
        "labels = data[:,-1]\n",
        "\n",
        "print(\"Data attributes:\")\n",
        "print(attr_names)\n",
        "print(features.shape)\n",
        "print(labels.shape)\n",
        "\n"
      ],
      "execution_count": null,
      "outputs": [
        {
          "output_type": "stream",
          "text": [
            "Data attributes:\n",
            "['\"fixed acidity\"', '\"volatile acidity\"', '\"citric acid\"', '\"residual sugar\"', '\"chlorides\"', '\"free sulfur dioxide\"', '\"total sulfur dioxide\"', '\"density\"', '\"pH\"', '\"sulphates\"', '\"alcohol\"', '\"quality\"']\n",
            "(1000, 11)\n",
            "(1000,)\n"
          ],
          "name": "stdout"
        }
      ]
    },
    {
      "cell_type": "markdown",
      "metadata": {
        "id": "1YocW5c_Ku4W",
        "colab_type": "text"
      },
      "source": [
        "Selecting X, Y, separating into a train and a test set"
      ]
    },
    {
      "cell_type": "code",
      "metadata": {
        "id": "6ATDtyb6K-dK",
        "colab_type": "code",
        "colab": {
          "base_uri": "https://localhost:8080/",
          "height": 92
        },
        "outputId": "0c9751b9-42f6-4d2f-be90-f33873128eea"
      },
      "source": [
        "X_train = features[:500]\n",
        "y_train = labels[:500]\n",
        "X_test = features[500:]\n",
        "y_test = labels[500:]\n",
        "\n",
        "print(X_train.shape)\n",
        "print(y_train.shape)\n",
        "print(X_test.shape)\n",
        "print(y_test.shape)\n"
      ],
      "execution_count": null,
      "outputs": [
        {
          "output_type": "stream",
          "text": [
            "(500, 11)\n",
            "(500,)\n",
            "(500, 11)\n",
            "(500,)\n"
          ],
          "name": "stdout"
        }
      ]
    },
    {
      "cell_type": "markdown",
      "metadata": {
        "colab_type": "text",
        "id": "munYcZbIksAL"
      },
      "source": [
        "As a reminder we would like to find the optimal parameter $\\theta$ for the function\n",
        "$$f_{\\theta}(x)=\\theta_0+\\theta x$$\n",
        "such that it minimizes the squared error:\n",
        "$$L(\\mathcal{D},\\theta)=\\frac{1}{N}\\sum_{n=1}^N(y_n-f_{\\theta}(x_n))^2.$$\n",
        "\n",
        "On the lecture we learned about the normal equation to solve this:\n",
        "$$\\theta=(X^TX)^{-1}X^Ty$$\n",
        "Turns out this is a really bad approach to solve this problem because numerical stabilities (see the exercise at the end of the notebook). Instead, we are going to use gradient descent, to solve the problem. First note that (ignoring $\\theta_0$):\n",
        "$$L(\\mathcal{D},\\theta)=\\frac{1}{N}\\sum_{n=1}^N(y_n-f_{\\theta}(x_n))^2=\\frac{1}{N}\\sum_{n=1}^N(y_n-\\theta x_n)^2.$$\n",
        "This is a quadratic function in $\\theta$, we can plot it:"
      ]
    },
    {
      "cell_type": "markdown",
      "metadata": {
        "id": "KeTUVn2eWoHM",
        "colab_type": "text"
      },
      "source": [
        "![alt](https://drive.google.com/uc?export=download&id=1kAr_3NqddrbZua1Z5EOgzPnJlQphpKX6)"
      ]
    },
    {
      "cell_type": "markdown",
      "metadata": {
        "id": "6DDTpewTWDkJ",
        "colab_type": "text"
      },
      "source": [
        "The algorithm of gradient descent:\n",
        "1. Initialize $\\theta^{(0)}$ to zero (or set randomly)\n",
        "2. Update $\\theta$:  \n",
        "$\\theta^{(t)}=\\theta^{(t-1)}−\\alpha\\nabla_{\\theta} L(\\mathcal D, \\theta)$\n",
        "3. Iterate until it converges, or for a certain number of iterations.\n",
        "\n",
        "In our case $\\nabla_{\\theta} L(\\mathcal D, \\theta)=-2x_n(y_n-\\theta x_n)$. \n",
        "The linear regression class. `fit_intercept` is `True` if we want to use the $\\theta_0$ constant parameter."
      ]
    },
    {
      "cell_type": "code",
      "metadata": {
        "colab_type": "code",
        "id": "UIe5x8koksAj",
        "colab": {}
      },
      "source": [
        "class LinearRegression:\n",
        "    def __init__(self, lr=0.01, num_iter=10000, fit_intercept=True):\n",
        "        self.lr = lr\n",
        "        self.num_iter = num_iter\n",
        "        self.fit_intercept = fit_intercept\n",
        "        self.eps = 0.00000001\n",
        "    \n",
        "    def __add_intercept(self, X):\n",
        "        # add a column of 1s\n",
        "        intercept = np.ones((X.shape[0], 1))\n",
        "        return np.concatenate((intercept, X), axis=1)\n",
        "    \n",
        "    def __loss(self, h, y):\n",
        "        return np.mean(np.square(h - y))\n",
        "    \n",
        "    def fit(self, X, y):\n",
        "        if self.fit_intercept:\n",
        "            X = self.__add_intercept(X)\n",
        "        \n",
        "        # weights initialization\n",
        "        self.theta = np.zeros(X.shape[1])\n",
        "        \n",
        "        loss_vals = []\n",
        "        for i in range(self.num_iter):\n",
        "            h = np.dot(X, self.theta)\n",
        "            gradient = 2*np.dot(X.T, h - y) / y.size\n",
        "            self.theta -= self.lr * gradient\n",
        "            \n",
        "            h = np.dot(X, self.theta)\n",
        "            loss = self.__loss(h, y)\n",
        "            loss_vals.append(loss)\n",
        "        \n",
        "        return loss_vals\n",
        "    \n",
        "    def predict(self, X):\n",
        "        if self.fit_intercept:\n",
        "            X = self.__add_intercept(X)\n",
        "    \n",
        "        return np.dot(X, self.theta)\n",
        "    "
      ],
      "execution_count": null,
      "outputs": []
    },
    {
      "cell_type": "markdown",
      "metadata": {
        "id": "ixJ52jmNJlRX",
        "colab_type": "text"
      },
      "source": [
        "Feature scaling."
      ]
    },
    {
      "cell_type": "code",
      "metadata": {
        "colab_type": "code",
        "id": "Hg6suT-0lwb7",
        "colab": {}
      },
      "source": [
        "X_train_n, x_mean, x_std = std_normalization(X_train)\n",
        "X_test_n = std_normalize_with_given_meanstd(X_test, x_mean, x_std)"
      ],
      "execution_count": null,
      "outputs": []
    },
    {
      "cell_type": "markdown",
      "metadata": {
        "colab_type": "text",
        "id": "In-I8wdxlwca"
      },
      "source": [
        "Training and evaluation."
      ]
    },
    {
      "cell_type": "code",
      "metadata": {
        "colab_type": "code",
        "id": "9bZ5AIn0lwci",
        "colab": {
          "base_uri": "https://localhost:8080/",
          "height": 302
        },
        "outputId": "b8af71a3-6239-4e1d-9162-a53367677110"
      },
      "source": [
        "# if features are not scaled to same magnitude higher learning rate causes big fluctuations\n",
        "# model = LinearRegression(lr=0.00001, num_iter=50000)   \n",
        "\n",
        "model = LinearRegression(lr=0.0005, num_iter=10000)\n",
        "\n",
        "loss = model.fit(X_train_n, y_train)\n",
        "\n",
        "plt.plot(loss)\n",
        "plt.show();\n",
        "\n",
        "preds_train = model.predict(X_train_n)\n",
        "print(\"Training mean absolute error: \" + str(np.fabs(preds_train - y_train).mean()))\n",
        "preds_test = model.predict(X_test_n)\n",
        "print(\"Test mean absolute error: \" + str(np.fabs(preds_test - y_test).mean()))"
      ],
      "execution_count": null,
      "outputs": [
        {
          "output_type": "display_data",
          "data": {
            "image/png": "[encoded data removed]",
            "text/plain": [
              "<Figure size 432x288 with 1 Axes>"
            ]
          },
          "metadata": {
            "tags": [],
            "needs_background": "light"
          }
        },
        {
          "output_type": "stream",
          "text": [
            "Training mean absolute error: 0.5001925998307676\n",
            "Test mean absolute error: 0.5147913228627844\n"
          ],
          "name": "stdout"
        }
      ]
    },
    {
      "cell_type": "markdown",
      "metadata": {
        "id": "36dNt0CjMWN9",
        "colab_type": "text"
      },
      "source": [
        "**Conclusion:** The trained model could predict the wines' quality rating on a scale from 1 to 10 with an absolute error of around 0.5. Considering that most of the wines in the database have a rating between 3 and 8, this is not exactly a remarkable result. Perhaps the wine that's proclaimed to be high quality is the same as a cheaper variant, and calling either wine higher quality is just plain snobbism? Or perhaps a linear function based on the chemical compound is not enough to approximate the quality sticker given by professionals, and we require a more complex model?"
      ]
    },
    {
      "cell_type": "markdown",
      "metadata": {
        "id": "-JDt0MGaItgs",
        "colab_type": "text"
      },
      "source": [
        "Linear regression is already implemented in multiple python libraries. One implementation from the sklearn package:\n",
        "https://scikit-learn.org/stable/modules/generated/sklearn.linear_model.LinearRegression.html"
      ]
    },
    {
      "cell_type": "markdown",
      "metadata": {
        "id": "_o-_D1coZneR",
        "colab_type": "text"
      },
      "source": [
        "## Exercise\n",
        "\n",
        "Solve the linear regression problem with the normal equation (see above). Compare it to our gradient descent solution:  \n",
        "- Which one has the lower train/test error?\n",
        "- Which one has the lower loss (the $L(\\mathcal D,\\theta)$ value)?\n",
        "\n",
        "*(For those who did numerical analysis)* We are inverting the matrix $X^TX$, which can be numerically unstable. Calculate the condition number of $X^TX$. What does it mean for the stability of our normal equation? Recall that\n",
        "$$\\kappa(M)=\\frac{\\sigma_{max}(M)}{\\sigma_{min}(M)},$$\n",
        "where $\\sigma_{max}(M)$ and $\\sigma_{max}(M)$ are the maximal and minimal singular values of $M$.\n"
      ]
    }
  ]
}