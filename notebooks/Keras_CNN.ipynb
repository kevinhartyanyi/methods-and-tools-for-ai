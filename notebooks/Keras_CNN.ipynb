{
  "nbformat": 4,
  "nbformat_minor": 0,
  "metadata": {
    "colab": {
      "name": "Keras - CNN.ipynb",
      "provenance": [],
      "collapsed_sections": [],
      "toc_visible": true
    },
    "kernelspec": {
      "display_name": "Python 3",
      "language": "python",
      "name": "python3"
    },
    "accelerator": "GPU"
  },
  "cells": [
    {
      "cell_type": "markdown",
      "metadata": {
        "id": "ZAG41H1x0s9C"
      },
      "source": [
        "# Convolutional Networks in Keras\n",
        "This notebook shows you how to create a simple CNN (convolutional neural network) in Keras.\n",
        "\n",
        "## Loading MNIST\n",
        "This part of the code is the same as before. We just download and normalize the dataset."
      ]
    },
    {
      "cell_type": "code",
      "metadata": {
        "id": "QamtKcOl2GEY"
      },
      "source": [
        "from tensorflow.keras.datasets import mnist\n",
        "import numpy as np\n",
        "\n",
        "# Load MNIST dataset\n",
        "(x_train, y_train), (x_test, y_test) = mnist.load_data()\n",
        "x_train=np.expand_dims(x_train, 3)\n",
        "x_test=np.expand_dims(x_test, 3)\n",
        "\n",
        "# Normalize the training and test data, helps the training algorithm\n",
        "x_train = x_train / 255.0\n",
        "x_test = x_test / 255.0"
      ],
      "execution_count": null,
      "outputs": []
    },
    {
      "cell_type": "markdown",
      "metadata": {
        "id": "gm87Y1wegUPR"
      },
      "source": [
        "## Conv2D layer in Keras\n",
        "\n",
        "The Convolutional layer is in the ***keras.layers*** module. Its main parameters are:\n",
        "```\n",
        "tensorflow.keras.layers.Conv2D(filters, \n",
        "                   kernel_size, \n",
        "                   strides=(1, 1), \n",
        "                   padding='valid', \n",
        "                   activation=None)\n",
        "```\n",
        "\n",
        "**Main arguments**\n",
        "\n",
        "*  **filters:** Positive integer, the number of filters, or the depth dimension of the output.\n",
        "* **kernel_size:** An integer or tuple/list of 2 integers, specifying the height and width of the 2D convolution window. Can be a single integer to specify the same value for all spatial dimensions.\n",
        "* **strides:** An integer or tuple/list of 2 integers, specifying the strides of the convolution along the height and width. Can be a single integer to specify the same value for all spatial dimensions. \n",
        "* **padding:** One of \"valid\" or \"same\" (case-insensitive). When you apply a (let's say 3x3) convolution on an NxN input, the output will be (N-2)x(N-2) because at the edges the filter can't \"go out\" of the input image boundaries. If you would like to have an NxN output, you have to pad the input to (N+2)x(N+2). This option controls the padding: `valid` means no padding, `same` means padding with zeros such that the input and the output will have the same size.\n",
        "*  **activation:** Activation function to use. If you don't specify anything, no activation is applied (ie. \"linear\" activation: a(x) = x). \n",
        "\n",
        "\n"
      ]
    },
    {
      "cell_type": "markdown",
      "metadata": {
        "id": "6lPvIuxfn-4G"
      },
      "source": [
        "## Example Keras model on MNIST dataset\n",
        "In this section we will train a simple CNN that recognizes digits in the dataset. The following image shows the network architecture:\n",
        "![architecture](https://docs.google.com/uc?export=download&id=1Anmu9juijuRXB1mdfBF8gOSjgiRbM44K)\n",
        "\n",
        "It has two Convolutional layers followed by MaxPool layers, and finally two fully connected layers for classification."
      ]
    },
    {
      "cell_type": "code",
      "metadata": {
        "id": "bL6hPoQZnycv"
      },
      "source": [
        "from tensorflow.keras.models import Sequential\n",
        "from tensorflow.keras.layers import Dense, Flatten, Conv2D, MaxPool2D, Input\n",
        "from tensorflow.keras.utils import plot_model\n",
        "\n",
        "import matplotlib.pyplot as plt"
      ],
      "execution_count": null,
      "outputs": []
    },
    {
      "cell_type": "code",
      "metadata": {
        "id": "tmS8qyP8ogPm"
      },
      "source": [
        "# Define the model\n",
        "model = Sequential()\n",
        "\n",
        "# The first convolutional layer\n",
        "model.add(Conv2D(filters=24, kernel_size=(3,3), input_shape=(28, 28, 1), activation='relu'))        \n",
        "model.add(MaxPool2D(pool_size=(2,2))) \n",
        "\n",
        "# The second convolutional layer\n",
        "model.add(Conv2D(filters=36, kernel_size=(3,3), activation='relu'))\n",
        "model.add(MaxPool2D(pool_size=(2,2)))\n",
        "\n",
        "model.add(Flatten()),\n",
        "model.add(Dense(128, activation='relu'))\n",
        "model.add(Dense(10, activation='softmax'))"
      ],
      "execution_count": null,
      "outputs": []
    },
    {
      "cell_type": "markdown",
      "metadata": {
        "id": "qOZy4NUcyPPf"
      },
      "source": [
        "Similarly to a dense network, we have simply added the convolutional and MaxPooling layers to our Sequential model."
      ]
    },
    {
      "cell_type": "code",
      "metadata": {
        "id": "HqWW_nfpohhn"
      },
      "source": [
        "# Before training a model, you need to configure the learning process with compile() function\n",
        "model.compile(optimizer='adam', # The optimisation method\n",
        "              loss='sparse_categorical_crossentropy', # Loss function. Sparse categorical crossentropy can be used if the targets are numbers\n",
        "              metrics=['accuracy']) # Used to monitor the training and testing steps. It uses accuracy, the fraction of the images that are correctly classified"
      ],
      "execution_count": null,
      "outputs": []
    },
    {
      "cell_type": "markdown",
      "metadata": {
        "id": "1zMR6IIkwiGl"
      },
      "source": [
        "Next we print out the model architecture. Observe how the 28x28 input was decresed to 26x26 after the first convolution. Also check that MaxPooling halved the resolution."
      ]
    },
    {
      "cell_type": "code",
      "metadata": {
        "id": "odNID2UOuqYS",
        "colab": {
          "base_uri": "https://localhost:8080/"
        },
        "outputId": "435a4160-c7c0-4026-d76b-55bc1fea7090"
      },
      "source": [
        "# Prints a summary representation of your model\n",
        "model.summary()"
      ],
      "execution_count": null,
      "outputs": [
        {
          "output_type": "stream",
          "text": [
            "Model: \"sequential\"\n",
            "_________________________________________________________________\n",
            "Layer (type)                 Output Shape              Param #   \n",
            "=================================================================\n",
            "conv2d (Conv2D)              (None, 26, 26, 24)        240       \n",
            "_________________________________________________________________\n",
            "max_pooling2d (MaxPooling2D) (None, 13, 13, 24)        0         \n",
            "_________________________________________________________________\n",
            "conv2d_1 (Conv2D)            (None, 11, 11, 36)        7812      \n",
            "_________________________________________________________________\n",
            "max_pooling2d_1 (MaxPooling2 (None, 5, 5, 36)          0         \n",
            "_________________________________________________________________\n",
            "flatten (Flatten)            (None, 900)               0         \n",
            "_________________________________________________________________\n",
            "dense (Dense)                (None, 128)               115328    \n",
            "_________________________________________________________________\n",
            "dense_1 (Dense)              (None, 10)                1290      \n",
            "=================================================================\n",
            "Total params: 124,670\n",
            "Trainable params: 124,670\n",
            "Non-trainable params: 0\n",
            "_________________________________________________________________\n"
          ],
          "name": "stdout"
        }
      ]
    },
    {
      "cell_type": "markdown",
      "metadata": {
        "id": "GzBGTcEpw1tg"
      },
      "source": [
        "Compare the number of parameters to that of the fully connected model from the previous notebok. It was 407500, the current model is 4 times smaller! It will train faster as well."
      ]
    },
    {
      "cell_type": "code",
      "metadata": {
        "id": "NHalL_3EoiR2",
        "colab": {
          "base_uri": "https://localhost:8080/"
        },
        "outputId": "22f7a28a-75bb-4d1d-e58d-440e61b0a03e"
      },
      "source": [
        "history = model.fit(x_train, y_train, epochs=30, validation_data=(x_test, y_test)) \n"
      ],
      "execution_count": null,
      "outputs": [
        {
          "output_type": "stream",
          "text": [
            "Epoch 1/30\n",
            "1875/1875 [==============================] - 5s 3ms/step - loss: 0.1473 - accuracy: 0.9555 - val_loss: 0.0517 - val_accuracy: 0.9834\n",
            "Epoch 2/30\n",
            "1875/1875 [==============================] - 5s 2ms/step - loss: 0.0477 - accuracy: 0.9851 - val_loss: 0.0359 - val_accuracy: 0.9877\n",
            "Epoch 3/30\n",
            "1875/1875 [==============================] - 5s 2ms/step - loss: 0.0333 - accuracy: 0.9900 - val_loss: 0.0314 - val_accuracy: 0.9894\n",
            "Epoch 4/30\n",
            "1875/1875 [==============================] - 5s 3ms/step - loss: 0.0244 - accuracy: 0.9920 - val_loss: 0.0388 - val_accuracy: 0.9886\n",
            "Epoch 5/30\n",
            "1875/1875 [==============================] - 5s 2ms/step - loss: 0.0182 - accuracy: 0.9941 - val_loss: 0.0332 - val_accuracy: 0.9894\n",
            "Epoch 6/30\n",
            "1875/1875 [==============================] - 5s 2ms/step - loss: 0.0152 - accuracy: 0.9952 - val_loss: 0.0340 - val_accuracy: 0.9908\n",
            "Epoch 7/30\n",
            "1875/1875 [==============================] - 5s 2ms/step - loss: 0.0111 - accuracy: 0.9965 - val_loss: 0.0446 - val_accuracy: 0.9877\n",
            "Epoch 8/30\n",
            "1875/1875 [==============================] - 4s 2ms/step - loss: 0.0102 - accuracy: 0.9966 - val_loss: 0.0311 - val_accuracy: 0.9919\n",
            "Epoch 9/30\n",
            "1875/1875 [==============================] - 5s 3ms/step - loss: 0.0079 - accuracy: 0.9972 - val_loss: 0.0357 - val_accuracy: 0.9913\n",
            "Epoch 10/30\n",
            "1875/1875 [==============================] - 5s 2ms/step - loss: 0.0075 - accuracy: 0.9973 - val_loss: 0.0354 - val_accuracy: 0.9910\n",
            "Epoch 11/30\n",
            "1875/1875 [==============================] - 5s 2ms/step - loss: 0.0062 - accuracy: 0.9979 - val_loss: 0.0422 - val_accuracy: 0.9908\n",
            "Epoch 12/30\n",
            "1875/1875 [==============================] - 5s 2ms/step - loss: 0.0051 - accuracy: 0.9983 - val_loss: 0.0484 - val_accuracy: 0.9898\n",
            "Epoch 13/30\n",
            "1875/1875 [==============================] - 5s 3ms/step - loss: 0.0054 - accuracy: 0.9982 - val_loss: 0.0425 - val_accuracy: 0.9902\n",
            "Epoch 14/30\n",
            "1875/1875 [==============================] - 5s 3ms/step - loss: 0.0048 - accuracy: 0.9982 - val_loss: 0.0519 - val_accuracy: 0.9895\n",
            "Epoch 15/30\n",
            "1875/1875 [==============================] - 4s 2ms/step - loss: 0.0037 - accuracy: 0.9988 - val_loss: 0.0486 - val_accuracy: 0.9901\n",
            "Epoch 16/30\n",
            "1875/1875 [==============================] - 5s 2ms/step - loss: 0.0040 - accuracy: 0.9988 - val_loss: 0.0564 - val_accuracy: 0.9894\n",
            "Epoch 17/30\n",
            "1875/1875 [==============================] - 5s 3ms/step - loss: 0.0045 - accuracy: 0.9984 - val_loss: 0.0545 - val_accuracy: 0.9906\n",
            "Epoch 18/30\n",
            "1875/1875 [==============================] - 5s 3ms/step - loss: 0.0031 - accuracy: 0.9989 - val_loss: 0.0589 - val_accuracy: 0.9909\n",
            "Epoch 19/30\n",
            "1875/1875 [==============================] - 5s 2ms/step - loss: 0.0044 - accuracy: 0.9985 - val_loss: 0.0577 - val_accuracy: 0.9900\n",
            "Epoch 20/30\n",
            "1875/1875 [==============================] - 5s 3ms/step - loss: 0.0039 - accuracy: 0.9987 - val_loss: 0.0490 - val_accuracy: 0.9905\n",
            "Epoch 21/30\n",
            "1875/1875 [==============================] - 5s 2ms/step - loss: 0.0035 - accuracy: 0.9987 - val_loss: 0.0564 - val_accuracy: 0.9909\n",
            "Epoch 22/30\n",
            "1875/1875 [==============================] - 5s 3ms/step - loss: 0.0039 - accuracy: 0.9987 - val_loss: 0.0506 - val_accuracy: 0.9915\n",
            "Epoch 23/30\n",
            "1875/1875 [==============================] - 4s 2ms/step - loss: 0.0026 - accuracy: 0.9991 - val_loss: 0.0532 - val_accuracy: 0.9916\n",
            "Epoch 24/30\n",
            "1875/1875 [==============================] - 5s 2ms/step - loss: 0.0027 - accuracy: 0.9992 - val_loss: 0.0576 - val_accuracy: 0.9907\n",
            "Epoch 25/30\n",
            "1875/1875 [==============================] - 5s 2ms/step - loss: 0.0031 - accuracy: 0.9991 - val_loss: 0.0638 - val_accuracy: 0.9904\n",
            "Epoch 26/30\n",
            "1875/1875 [==============================] - 5s 2ms/step - loss: 0.0033 - accuracy: 0.9989 - val_loss: 0.0662 - val_accuracy: 0.9905\n",
            "Epoch 27/30\n",
            "1875/1875 [==============================] - 5s 3ms/step - loss: 0.0036 - accuracy: 0.9991 - val_loss: 0.0535 - val_accuracy: 0.9913\n",
            "Epoch 28/30\n",
            "1875/1875 [==============================] - 5s 3ms/step - loss: 0.0018 - accuracy: 0.9994 - val_loss: 0.0493 - val_accuracy: 0.9914\n",
            "Epoch 29/30\n",
            "1875/1875 [==============================] - 5s 3ms/step - loss: 0.0025 - accuracy: 0.9992 - val_loss: 0.0681 - val_accuracy: 0.9890\n",
            "Epoch 30/30\n",
            "1875/1875 [==============================] - 5s 3ms/step - loss: 0.0039 - accuracy: 0.9988 - val_loss: 0.0525 - val_accuracy: 0.9918\n"
          ],
          "name": "stdout"
        }
      ]
    },
    {
      "cell_type": "markdown",
      "metadata": {
        "id": "CMsCEiMq2Zr5"
      },
      "source": [
        "Now we plot the training curves. The training curves shows how the loss and accuracy changes over time. It is a useful tool to debug the network. We will go into it in later lectures. By looking at the plots, you can see if the network is still training or has actually converged and you can stop training."
      ]
    },
    {
      "cell_type": "code",
      "metadata": {
        "id": "9CFPBOcv1QZV",
        "colab": {
          "base_uri": "https://localhost:8080/",
          "height": 295
        },
        "outputId": "59540dcd-d084-45ed-b9b6-ca8055c90233"
      },
      "source": [
        "# Plot training & validation accuracy values\n",
        "plt.figure(figsize=(9,4))\n",
        "\n",
        "plt.subplot(1,2,1)\n",
        "plt.plot(history.history['accuracy'])\n",
        "plt.plot(history.history['val_accuracy'])\n",
        "plt.title('Model accuracy')\n",
        "plt.ylabel('Accuracy')\n",
        "plt.xlabel('Epoch')\n",
        "plt.legend(['Train accuracy', 'Test accuracy'], loc='upper left')\n",
        "\n",
        "# Plot training & validation loss values\n",
        "plt.subplot(1,2,2)\n",
        "plt.plot(history.history['loss'])\n",
        "plt.plot(history.history['val_loss'])\n",
        "plt.title('Model loss')\n",
        "plt.ylabel('Loss')\n",
        "plt.xlabel('Epoch')\n",
        "plt.legend(['Train loss', 'Test loss'], loc='upper left')\n",
        "plt.show()"
      ],
      "execution_count": null,
      "outputs": [
        {
          "output_type": "display_data",
          "data": {
            "image/png": "[encoded data removed]",
            "text/plain": [
              "<Figure size 648x288 with 2 Axes>"
            ]
          },
          "metadata": {
            "tags": [],
            "needs_background": "light"
          }
        }
      ]
    },
    {
      "cell_type": "code",
      "metadata": {
        "id": "9O8haLPoq53N",
        "colab": {
          "base_uri": "https://localhost:8080/"
        },
        "outputId": "bcaadef5-2f0d-4519-d7e5-fea0d68981e3"
      },
      "source": [
        "# Evaluate the model\n",
        "# Returns the loss value & metrics values for the model in test mode\n",
        "loss, acc = model.evaluate(x_test, y_test, verbose=0)\n",
        "\n",
        "print('Test loss: {}'.format(loss))\n",
        "print('Test accuracy: {:.2%}'.format(acc))"
      ],
      "execution_count": null,
      "outputs": [
        {
          "output_type": "stream",
          "text": [
            "Test loss: 0.05245960131287575\n",
            "Test accuracy: 99.18%\n"
          ],
          "name": "stdout"
        }
      ]
    },
    {
      "cell_type": "markdown",
      "metadata": {
        "id": "XyvLp7nG03nd"
      },
      "source": [
        "We got a model that has a 99% classification accuracy. This is a 50% lower error rate than our previous fully connected model that 4 times as many parameters. Now check out what happens, if we translate the images by 2 pixels:"
      ]
    },
    {
      "cell_type": "code",
      "metadata": {
        "id": "YMeDSDOnz1yf",
        "colab": {
          "base_uri": "https://localhost:8080/"
        },
        "outputId": "9afb7439-764d-462e-e03c-46f5d32bc55a"
      },
      "source": [
        "x_trans = np.zeros_like(x_test)\n",
        "x_trans[:,2:,:] = x_test[:,:-2,:]\n",
        "model.evaluate(x_trans, y_test, verbose=0)"
      ],
      "execution_count": null,
      "outputs": [
        {
          "output_type": "execute_result",
          "data": {
            "text/plain": [
              "[0.3402063846588135, 0.9549000263214111]"
            ]
          },
          "metadata": {
            "tags": []
          },
          "execution_count": 11
        }
      ]
    },
    {
      "cell_type": "markdown",
      "metadata": {
        "id": "4aCbbXLa0E4O"
      },
      "source": [
        "The accuracy is 95.4%. Compared to the 89% we got earlier, this is much better, it shows a more robust model to translation."
      ]
    },
    {
      "cell_type": "markdown",
      "metadata": {
        "id": "NpqkdcNRCj4S"
      },
      "source": [
        "# Tasks and experiments\n",
        "Here are the problems to solve:\n",
        "\n",
        "* Change the padding in the Convolutional layers so that the output and the input have the same size.\n",
        "* Looking at the loss curves, you can see that the test loss started to increase from around 5th epoch. Add Early Stopping to the model to prevent overfitting. In Keras, you can do that using the [EarlyStoping](https://keras.io/callbacks/#earlystopping) [callback](https://keras.io/callbacks/).\n",
        "* Download the CIFAR-10 dataset and apply the CNN we used for the MNIST dataset. Try adding more layers to improve the results. (The CIFAR-10 is included in Keras, you can find more information at [keras.io/datasets](https://keras.io/datasets/))"
      ]
    }
  ]
}