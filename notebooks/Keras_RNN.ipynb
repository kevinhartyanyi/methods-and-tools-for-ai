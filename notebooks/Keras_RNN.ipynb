{
  "nbformat": 4,
  "nbformat_minor": 0,
  "metadata": {
    "colab": {
      "name": "Keras - RNN.ipynb",
      "provenance": [],
      "collapsed_sections": []
    },
    "kernelspec": {
      "name": "python3",
      "display_name": "Python 3"
    },
    "accelerator": "GPU"
  },
  "cells": [
    {
      "cell_type": "markdown",
      "metadata": {
        "id": "qFSjVQBRAu-H"
      },
      "source": [
        "# Recurrent Networks in Keras\n",
        "\n",
        "This notebook shows you how to create a simple RNN (Recurrent Neural Network) in Keras.\n",
        "\n",
        " ## Loading the IMDB dataset\n",
        " First let's load our new dataset, the IMDB Movie reviews (https://keras.io/datasets/#imdb-movie-reviews-sentiment-classification). This dataset contains reviews from 25,000 movies and each of them is labelled by sentiment (either positive or negative). The data is already preprocessed, each review is encoded as a sequence of word indexes. Because of feeding variable length sequences to a DNN is problematic, we need to pad them (https://keras.io/preprocessing/sequence/#pad_sequences)."
      ]
    },
    {
      "cell_type": "code",
      "metadata": {
        "id": "4iOtG82vCk9n",
        "colab": {
          "base_uri": "https://localhost:8080/"
        },
        "outputId": "4e1d3a14-4de7-41b6-bf37-8dcf5d3bad63"
      },
      "source": [
        "from tensorflow.keras.datasets import imdb\n",
        "from tensorflow.keras.preprocessing import sequence\n",
        "\n",
        "max_features = 10000  # number of words to consider as features\n",
        "maxlen = 500  # length of the input text is padded to this many words (if the input is longer than this, it is truncated)\n",
        "batch_size = 32\n",
        "\n",
        "print('Loading data...')\n",
        "(input_train, y_train), (input_test, y_test) = imdb.load_data(num_words=max_features)\n",
        "print(len(input_train), 'train sequences')\n",
        "print(len(input_test), 'test sequences')\n",
        "\n",
        "print('Pad sequences (samples x time)')\n",
        "input_train = sequence.pad_sequences(input_train, maxlen=maxlen)\n",
        "input_test = sequence.pad_sequences(input_test, maxlen=maxlen)\n",
        "print('input_train shape:', input_train.shape)\n",
        "print('input_test shape:', input_test.shape)"
      ],
      "execution_count": null,
      "outputs": [
        {
          "output_type": "stream",
          "text": [
            "Loading data...\n",
            "Downloading data from https://storage.googleapis.com/tensorflow/tf-keras-datasets/imdb.npz\n",
            "17465344/17464789 [==============================] - 0s 0us/step\n",
            "25000 train sequences\n",
            "25000 test sequences\n",
            "Pad sequences (samples x time)\n",
            "input_train shape: (25000, 500)\n",
            "input_test shape: (25000, 500)\n"
          ],
          "name": "stdout"
        }
      ]
    },
    {
      "cell_type": "markdown",
      "metadata": {
        "id": "ygZkk04Ea_me"
      },
      "source": [
        "The database encodes words as integers. The above code keeps only the top `max_features` most frequent words, the others are thrown away. Let's see how one text is encoded:"
      ]
    },
    {
      "cell_type": "code",
      "metadata": {
        "id": "jPMZp0FEaZqN",
        "colab": {
          "base_uri": "https://localhost:8080/"
        },
        "outputId": "43bc9861-f213-46b8-c2f5-886f99030fbd"
      },
      "source": [
        "input_train[0]"
      ],
      "execution_count": null,
      "outputs": [
        {
          "output_type": "execute_result",
          "data": {
            "text/plain": [
              "array([   0,    0,    0,    0,    0,    0,    0,    0,    0,    0,    0,\n",
              "          0,    0,    0,    0,    0,    0,    0,    0,    0,    0,    0,\n",
              "          0,    0,    0,    0,    0,    0,    0,    0,    0,    0,    0,\n",
              "          0,    0,    0,    0,    0,    0,    0,    0,    0,    0,    0,\n",
              "          0,    0,    0,    0,    0,    0,    0,    0,    0,    0,    0,\n",
              "          0,    0,    0,    0,    0,    0,    0,    0,    0,    0,    0,\n",
              "          0,    0,    0,    0,    0,    0,    0,    0,    0,    0,    0,\n",
              "          0,    0,    0,    0,    0,    0,    0,    0,    0,    0,    0,\n",
              "          0,    0,    0,    0,    0,    0,    0,    0,    0,    0,    0,\n",
              "          0,    0,    0,    0,    0,    0,    0,    0,    0,    0,    0,\n",
              "          0,    0,    0,    0,    0,    0,    0,    0,    0,    0,    0,\n",
              "          0,    0,    0,    0,    0,    0,    0,    0,    0,    0,    0,\n",
              "          0,    0,    0,    0,    0,    0,    0,    0,    0,    0,    0,\n",
              "          0,    0,    0,    0,    0,    0,    0,    0,    0,    0,    0,\n",
              "          0,    0,    0,    0,    0,    0,    0,    0,    0,    0,    0,\n",
              "          0,    0,    0,    0,    0,    0,    0,    0,    0,    0,    0,\n",
              "          0,    0,    0,    0,    0,    0,    0,    0,    0,    0,    0,\n",
              "          0,    0,    0,    0,    0,    0,    0,    0,    0,    0,    0,\n",
              "          0,    0,    0,    0,    0,    0,    0,    0,    0,    0,    0,\n",
              "          0,    0,    0,    0,    0,    0,    0,    0,    0,    0,    0,\n",
              "          0,    0,    0,    0,    0,    0,    0,    0,    0,    0,    0,\n",
              "          0,    0,    0,    0,    0,    0,    0,    0,    0,    0,    0,\n",
              "          0,    0,    0,    0,    0,    0,    0,    0,    0,    0,    0,\n",
              "          0,    0,    0,    0,    0,    0,    0,    0,    0,    0,    0,\n",
              "          0,    0,    0,    0,    0,    0,    0,    0,    0,    0,    0,\n",
              "          0,    0,    0,    0,    0,    0,    0,    1,   14,   22,   16,\n",
              "         43,  530,  973, 1622, 1385,   65,  458, 4468,   66, 3941,    4,\n",
              "        173,   36,  256,    5,   25,  100,   43,  838,  112,   50,  670,\n",
              "          2,    9,   35,  480,  284,    5,  150,    4,  172,  112,  167,\n",
              "          2,  336,  385,   39,    4,  172, 4536, 1111,   17,  546,   38,\n",
              "         13,  447,    4,  192,   50,   16,    6,  147, 2025,   19,   14,\n",
              "         22,    4, 1920, 4613,  469,    4,   22,   71,   87,   12,   16,\n",
              "         43,  530,   38,   76,   15,   13, 1247,    4,   22,   17,  515,\n",
              "         17,   12,   16,  626,   18,    2,    5,   62,  386,   12,    8,\n",
              "        316,    8,  106,    5,    4, 2223, 5244,   16,  480,   66, 3785,\n",
              "         33,    4,  130,   12,   16,   38,  619,    5,   25,  124,   51,\n",
              "         36,  135,   48,   25, 1415,   33,    6,   22,   12,  215,   28,\n",
              "         77,   52,    5,   14,  407,   16,   82,    2,    8,    4,  107,\n",
              "        117, 5952,   15,  256,    4,    2,    7, 3766,    5,  723,   36,\n",
              "         71,   43,  530,  476,   26,  400,  317,   46,    7,    4,    2,\n",
              "       1029,   13,  104,   88,    4,  381,   15,  297,   98,   32, 2071,\n",
              "         56,   26,  141,    6,  194, 7486,   18,    4,  226,   22,   21,\n",
              "        134,  476,   26,  480,    5,  144,   30, 5535,   18,   51,   36,\n",
              "         28,  224,   92,   25,  104,    4,  226,   65,   16,   38, 1334,\n",
              "         88,   12,   16,  283,    5,   16, 4472,  113,  103,   32,   15,\n",
              "         16, 5345,   19,  178,   32], dtype=int32)"
            ]
          },
          "metadata": {
            "tags": []
          },
          "execution_count": 2
        }
      ]
    },
    {
      "cell_type": "markdown",
      "metadata": {
        "id": "54l1Ex7-bm8J"
      },
      "source": [
        "It is useful to find a richer representation for a word, something more than a single integer. A very popular approach is to turn each word into a vector representation. With vector representations, one can allocate close values to words that have similar meanings and values far apart to words with different meanings. Assigning a vector for each word is called *word vector embedding* or embedding for short.\n",
        "\n",
        "You can use a pretrained embedding such as [word2vec](https://en.wikipedia.org/wiki/Word2vec) or [GloVe](https://nlp.stanford.edu/projects/glove/). Similarly to using a pretrained CNN for image recognition, this has the advantage that the method was trained on a much larger dataset so it captures more information than our smallish IMDB dataset. For simplicity, we are going to use Keras' Embedding layer, that automatically learns a word vector embedding. Note however, for a real world project you might want to use word2vec or GloVe."
      ]
    },
    {
      "cell_type": "markdown",
      "metadata": {
        "id": "jvDRIPzjFuzR"
      },
      "source": [
        "## SimpleRNN layer in Keras\n",
        "![rnn layer](http://colah.github.io/posts/2015-08-Understanding-LSTMs/img/RNN-unrolled.png)\n",
        "The SimpleRNN layer (https://keras.io/layers/recurrent/#simplernn) is located in the ***keras.layers*** module. It can be used to process batches of sequences, so it takes inputs of shape *(batch_size, timesteps, input_features)*. Its main parameters are: \n",
        "```\n",
        "keras.layers.SimpleRNN(units, \n",
        "                   activation='tanh', \n",
        "                   return_sequences=False)\n",
        "```\n",
        "\n",
        "**Main arguments**\n",
        "\n",
        "*  **units:** Positive integer, dimensionality of the output space.\n",
        "*  **activation:** Activation function to use (see [activations](https://keras.io/activations/)). Default: hyperbolic tangent (tanh). If you pass None, no activation is applied (ie. \"linear\" activation: a(x) = x). \n",
        "*  **return_sequences:** Boolean. Whether to return the last output in the output sequence, or the full sequence.\n"
      ]
    },
    {
      "cell_type": "code",
      "metadata": {
        "id": "cecbD6ioIPrp",
        "colab": {
          "base_uri": "https://localhost:8080/"
        },
        "outputId": "daa37fbb-7c01-4f08-ebcc-cf4ce6340046"
      },
      "source": [
        "from tensorflow.keras.models import Sequential\n",
        "from tensorflow.keras.layers import Embedding, SimpleRNN, Dense\n",
        "\n",
        "model = Sequential()\n",
        "model.add(Embedding(max_features, 32))\n",
        "model.add(SimpleRNN(32))\n",
        "model.add(Dense(1, activation='sigmoid'))\n",
        "\n",
        "model.compile(optimizer='rmsprop', loss='binary_crossentropy', metrics=['acc'])\n",
        "history = model.fit(input_train, y_train,\n",
        "                    epochs=10,\n",
        "                    batch_size=128,\n",
        "                    validation_split=0.2)"
      ],
      "execution_count": null,
      "outputs": [
        {
          "output_type": "stream",
          "text": [
            "Epoch 1/10\n",
            "157/157 [==============================] - 54s 345ms/step - loss: 0.5735 - acc: 0.6906 - val_loss: 0.4082 - val_acc: 0.8234\n",
            "Epoch 2/10\n",
            "157/157 [==============================] - 55s 348ms/step - loss: 0.3455 - acc: 0.8594 - val_loss: 0.8613 - val_acc: 0.6854\n",
            "Epoch 3/10\n",
            "157/157 [==============================] - 54s 343ms/step - loss: 0.2707 - acc: 0.8954 - val_loss: 0.3974 - val_acc: 0.8266\n",
            "Epoch 4/10\n",
            "157/157 [==============================] - 54s 344ms/step - loss: 0.2380 - acc: 0.9101 - val_loss: 0.3715 - val_acc: 0.8620\n",
            "Epoch 5/10\n",
            "157/157 [==============================] - 54s 343ms/step - loss: 0.1907 - acc: 0.9273 - val_loss: 0.4628 - val_acc: 0.7924\n",
            "Epoch 6/10\n",
            "157/157 [==============================] - 54s 346ms/step - loss: 0.1424 - acc: 0.9495 - val_loss: 0.4092 - val_acc: 0.8704\n",
            "Epoch 7/10\n",
            "157/157 [==============================] - 54s 343ms/step - loss: 0.1129 - acc: 0.9609 - val_loss: 0.4638 - val_acc: 0.8186\n",
            "Epoch 8/10\n",
            "157/157 [==============================] - 54s 345ms/step - loss: 0.0764 - acc: 0.9750 - val_loss: 0.4560 - val_acc: 0.8580\n",
            "Epoch 9/10\n",
            "157/157 [==============================] - 54s 343ms/step - loss: 0.0645 - acc: 0.9803 - val_loss: 0.5206 - val_acc: 0.8378\n",
            "Epoch 10/10\n",
            "157/157 [==============================] - 54s 345ms/step - loss: 0.0461 - acc: 0.9858 - val_loss: 0.5479 - val_acc: 0.8316\n"
          ],
          "name": "stdout"
        }
      ]
    },
    {
      "cell_type": "markdown",
      "metadata": {
        "id": "KClRXiiuJwqJ"
      },
      "source": [
        "Let's display the training and validation loss and accuracy:"
      ]
    },
    {
      "cell_type": "code",
      "metadata": {
        "id": "-goSFxxXJyby",
        "colab": {
          "base_uri": "https://localhost:8080/",
          "height": 545
        },
        "outputId": "4faece90-fdf8-45ac-8b3b-d0a7b6274409"
      },
      "source": [
        "import matplotlib.pyplot as plt\n",
        "\n",
        "acc = history.history['acc']\n",
        "val_acc = history.history['val_acc']\n",
        "loss = history.history['loss']\n",
        "val_loss = history.history['val_loss']\n",
        "\n",
        "epochs = range(len(acc))\n",
        "\n",
        "plt.plot(epochs, acc, 'bo', label='Training acc')\n",
        "plt.plot(epochs, val_acc, 'b', label='Validation acc')\n",
        "plt.title('Training and validation accuracy')\n",
        "plt.legend()\n",
        "\n",
        "plt.figure()\n",
        "\n",
        "plt.plot(epochs, loss, 'bo', label='Training loss')\n",
        "plt.plot(epochs, val_loss, 'b', label='Validation loss')\n",
        "plt.title('Training and validation loss')\n",
        "plt.legend()\n",
        "\n",
        "plt.show()"
      ],
      "execution_count": null,
      "outputs": [
        {
          "output_type": "display_data",
          "data": {
            "image/png": "[encoded data removed]",
            "text/plain": [
              "<Figure size 432x288 with 1 Axes>"
            ]
          },
          "metadata": {
            "tags": [],
            "needs_background": "light"
          }
        },
        {
          "output_type": "display_data",
          "data": {
            "image/png": "[encoded data removed]",
            "text/plain": [
              "<Figure size 432x288 with 1 Axes>"
            ]
          },
          "metadata": {
            "tags": [],
            "needs_background": "light"
          }
        }
      ]
    },
    {
      "cell_type": "markdown",
      "metadata": {
        "id": "pfJ1CYefKx6q"
      },
      "source": [
        "SimpleRNN isn't very good at processing long sequences, like text. Other types of recurrent layers perform much better. "
      ]
    },
    {
      "cell_type": "markdown",
      "metadata": {
        "id": "_hbC9-5VKCpT"
      },
      "source": [
        "## LSTM layer in Keras\n",
        "![lstm layer](http://colah.github.io/posts/2015-08-Understanding-LSTMs/img/LSTM3-chain.png)\n",
        "The LSTM layer (https://keras.io/layers/recurrent/#lstm) is also located in the ***keras.layers*** module. Its main parameters are: \n",
        "```\n",
        "keras.layers.LSTM(units, \n",
        "                   activation='tanh', \n",
        "                   return_sequences=False)\n",
        "```\n",
        "\n",
        "**Main arguments**\n",
        "\n",
        "*  **units:** Positive integer, dimensionality of the output space.\n",
        "*  **activation:** Activation function to use (see [activations](https://keras.io/activations/)). Default: hyperbolic tangent (tanh). If you pass None, no activation is applied (ie. \"linear\" activation: a(x) = x). \n",
        "*  **return_sequences:** Boolean. Whether to return the last output in the output sequence, or the full sequence."
      ]
    },
    {
      "cell_type": "code",
      "metadata": {
        "id": "l3NnCUFoK78K",
        "colab": {
          "base_uri": "https://localhost:8080/",
          "height": 528
        },
        "outputId": "b8afbe0d-1d2a-4d70-b14c-44b28c738ca9"
      },
      "source": [
        "from tensorflow.keras.layers import LSTM\n",
        "\n",
        "model = Sequential()\n",
        "model.add(Embedding(max_features, 32))\n",
        "model.add(LSTM(32))\n",
        "model.add(Dense(1, activation='sigmoid'))\n",
        "\n",
        "model.compile(optimizer='rmsprop',\n",
        "              loss='binary_crossentropy',\n",
        "              metrics=['acc'])\n",
        "history = model.fit(input_train, y_train,\n",
        "                    epochs=10,\n",
        "                    batch_size=128,\n",
        "                    validation_split=0.2)"
      ],
      "execution_count": null,
      "outputs": [
        {
          "output_type": "stream",
          "text": [
            "WARNING:tensorflow:From /usr/local/lib/python3.6/dist-packages/tensorflow/python/framework/op_def_library.py:263: colocate_with (from tensorflow.python.framework.ops) is deprecated and will be removed in a future version.\n",
            "Instructions for updating:\n",
            "Colocations handled automatically by placer.\n",
            "WARNING:tensorflow:From /usr/local/lib/python3.6/dist-packages/tensorflow/python/ops/math_ops.py:3066: to_int32 (from tensorflow.python.ops.math_ops) is deprecated and will be removed in a future version.\n",
            "Instructions for updating:\n",
            "Use tf.cast instead.\n",
            "Train on 20000 samples, validate on 5000 samples\n",
            "Epoch 1/10\n",
            "20000/20000 [==============================] - 148s 7ms/step - loss: 0.5004 - acc: 0.7680 - val_loss: 0.3699 - val_acc: 0.8480\n",
            "Epoch 2/10\n",
            "20000/20000 [==============================] - 144s 7ms/step - loss: 0.2922 - acc: 0.8857 - val_loss: 0.3144 - val_acc: 0.8678\n",
            "Epoch 3/10\n",
            "20000/20000 [==============================] - 144s 7ms/step - loss: 0.2346 - acc: 0.9114 - val_loss: 0.2890 - val_acc: 0.8880\n",
            "Epoch 4/10\n",
            "20000/20000 [==============================] - 144s 7ms/step - loss: 0.2004 - acc: 0.9241 - val_loss: 0.2927 - val_acc: 0.8762\n",
            "Epoch 5/10\n",
            "20000/20000 [==============================] - 144s 7ms/step - loss: 0.1755 - acc: 0.9357 - val_loss: 0.2935 - val_acc: 0.8750\n",
            "Epoch 6/10\n",
            "20000/20000 [==============================] - 144s 7ms/step - loss: 0.1633 - acc: 0.9419 - val_loss: 0.3951 - val_acc: 0.8736\n",
            "Epoch 7/10\n",
            "20000/20000 [==============================] - 145s 7ms/step - loss: 0.1441 - acc: 0.9486 - val_loss: 0.3196 - val_acc: 0.8780\n",
            "Epoch 8/10\n",
            "20000/20000 [==============================] - 145s 7ms/step - loss: 0.1323 - acc: 0.9539 - val_loss: 0.3458 - val_acc: 0.8788\n",
            "Epoch 9/10\n",
            "20000/20000 [==============================] - 144s 7ms/step - loss: 0.1279 - acc: 0.9565 - val_loss: 0.3417 - val_acc: 0.8708\n",
            "Epoch 10/10\n",
            "20000/20000 [==============================] - 146s 7ms/step - loss: 0.1156 - acc: 0.9595 - val_loss: 0.3664 - val_acc: 0.8858\n"
          ],
          "name": "stdout"
        }
      ]
    },
    {
      "cell_type": "code",
      "metadata": {
        "id": "emek8pURLIJy",
        "colab": {
          "base_uri": "https://localhost:8080/",
          "height": 707
        },
        "outputId": "0db09eca-e17b-4f79-fae2-617de7664ad2"
      },
      "source": [
        "acc = history.history['acc']\n",
        "val_acc = history.history['val_acc']\n",
        "loss = history.history['loss']\n",
        "val_loss = history.history['val_loss']\n",
        "\n",
        "epochs = range(len(acc))\n",
        "\n",
        "plt.plot(epochs, acc, 'bo', label='Training acc')\n",
        "plt.plot(epochs, val_acc, 'b', label='Validation acc')\n",
        "plt.title('Training and validation accuracy')\n",
        "plt.legend()\n",
        "\n",
        "plt.figure()\n",
        "\n",
        "plt.plot(epochs, loss, 'bo', label='Training loss')\n",
        "plt.plot(epochs, val_loss, 'b', label='Validation loss')\n",
        "plt.title('Training and validation loss')\n",
        "plt.legend()\n",
        "\n",
        "plt.show()"
      ],
      "execution_count": null,
      "outputs": [
        {
          "output_type": "display_data",
          "data": {
            "image/png": "[encoded data removed]",
            "text/plain": [
              "<Figure size 576x396 with 1 Axes>"
            ]
          },
          "metadata": {
            "tags": []
          }
        },
        {
          "output_type": "display_data",
          "data": {
            "image/png": "[encoded data removed]",
            "text/plain": [
              "<Figure size 576x396 with 1 Axes>"
            ]
          },
          "metadata": {
            "tags": []
          }
        }
      ]
    },
    {
      "cell_type": "markdown",
      "metadata": {
        "id": "1xKNEd_-jIHm"
      },
      "source": [
        "We have achieved better results on the validation set. Let's how well does out LSTM work on the test set:"
      ]
    },
    {
      "cell_type": "code",
      "metadata": {
        "id": "vwprl7UdjViC",
        "colab": {
          "base_uri": "https://localhost:8080/",
          "height": 53
        },
        "outputId": "99f18950-3bfe-48ff-e3f2-61f3d7bbe683"
      },
      "source": [
        "model.evaluate(input_test, y_test, batch_size=128)"
      ],
      "execution_count": null,
      "outputs": [
        {
          "output_type": "stream",
          "text": [
            "25000/25000 [==============================] - 33s 1ms/step\n"
          ],
          "name": "stdout"
        },
        {
          "output_type": "execute_result",
          "data": {
            "text/plain": [
              "[0.42123891525268553, 0.8669200000190734]"
            ]
          },
          "metadata": {
            "tags": []
          },
          "execution_count": 11
        }
      ]
    },
    {
      "cell_type": "markdown",
      "metadata": {
        "id": "9Wfo_imak44T"
      },
      "source": [
        "We got an accuracy of 86.7%."
      ]
    },
    {
      "cell_type": "markdown",
      "metadata": {
        "id": "fcISPfiWLYK6"
      },
      "source": [
        "## References\n",
        "* https://github.com/fchollet/deep-learning-with-python-notebooks/blob/master/6.2-understanding-recurrent-neural-networks.ipynb\n",
        "* https://keras.io/\n",
        "* http://colah.github.io/posts/2015-08-Understanding-LSTMs/"
      ]
    }
  ]
}