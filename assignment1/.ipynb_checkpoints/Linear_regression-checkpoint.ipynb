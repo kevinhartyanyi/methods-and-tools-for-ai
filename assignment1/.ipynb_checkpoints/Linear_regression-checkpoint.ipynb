{
 "cells": [
  {
   "cell_type": "markdown",
   "metadata": {
    "id": "2pKobZd0KxwP"
   },
   "source": [
    "\n",
    "**Created by:**\n",
    "\n",
    "__[Viktor Varga](https://github.com/vvarga90)__, __Gulyás János Adrián__  \n",
    "**Edited by Márton Véges**\n",
    "\n",
    "<br>\n",
    "\n",
    "<img src=\"https://docs.google.com/uc?export=download&id=1WzgXsCoz8O-NeBlJTbuLPC1iIFDmgYt1\" style=\"display:inline-block\">\n",
    "<hr>"
   ]
  },
  {
   "cell_type": "markdown",
   "metadata": {
    "id": "UPNGQgO6aXtZ"
   },
   "source": [
    "# Linear regression using gradient descent"
   ]
  },
  {
   "cell_type": "markdown",
   "metadata": {
    "id": "EaVq4W9qOIIv"
   },
   "source": [
    "Source of the databases at: http://www.dcc.fc.up.pt/~ltorgo/Regression/DataSets.html"
   ]
  },
  {
   "cell_type": "markdown",
   "metadata": {
    "id": "9xF9psXQKgN7"
   },
   "source": [
    "## Imports"
   ]
  },
  {
   "cell_type": "code",
   "execution_count": 2,
   "metadata": {
    "id": "eugRKr5_Kf7c"
   },
   "outputs": [],
   "source": [
    "import numpy as np\n",
    "import urllib.request\n",
    "\n",
    "import matplotlib.pyplot as plt"
   ]
  },
  {
   "cell_type": "markdown",
   "metadata": {
    "id": "UxnhbGQ-Jzxx"
   },
   "source": [
    "## Getting the data"
   ]
  },
  {
   "cell_type": "markdown",
   "metadata": {
    "id": "b8DWij2kFZRu"
   },
   "source": [
    "Loading in the data (\"Wine Quality Data Set\" from the UCI ML repository).\n",
    "\n",
    "**Exercise:** Let's rate the quality of wines on a scale from 1 to 10 based on the wine's chemical composition."
   ]
  },
  {
   "cell_type": "code",
   "execution_count": 3,
   "metadata": {
    "id": "Iuxqk43jFPCG"
   },
   "outputs": [],
   "source": [
    "url = 'https://raw.githubusercontent.com/vvarga90/dlmatek_public_files/master/winequality-red.csv'\n",
    "\n",
    "ftpstream = urllib.request.urlopen(url)\n",
    "content_reg = ftpstream.read().decode('utf-8')"
   ]
  },
  {
   "cell_type": "markdown",
   "metadata": {
    "id": "M_XRgr1mJFhs"
   },
   "source": [
    "Processing data: from text file to numpy array."
   ]
  },
  {
   "cell_type": "code",
   "execution_count": 4,
   "metadata": {
    "colab": {
     "base_uri": "https://localhost:8080/",
     "height": 112
    },
    "id": "dPMWRt5qHfDy",
    "outputId": "2735087f-171e-4e21-fccc-1a20d3c2c59c"
   },
   "outputs": [
    {
     "name": "stdout",
     "output_type": "stream",
     "text": [
      "Data attributes:\n",
      "['\"fixed acidity\"', '\"volatile acidity\"', '\"citric acid\"', '\"residual sugar\"', '\"chlorides\"', '\"free sulfur dioxide\"', '\"total sulfur dioxide\"', '\"density\"', '\"pH\"', '\"sulphates\"', '\"alcohol\"', '\"quality\"']\n",
      "(1000, 11)\n",
      "(1000,)\n"
     ]
    }
   ],
   "source": [
    "lines = content_reg.split('\\n')\n",
    "words = [line.split(';') for line in lines]\n",
    "attr_names = words[0]\n",
    "data = words[1:1001]\n",
    "data = [[float(item) for item in rec] for rec in data]\n",
    "data = np.array(data, dtype=np.float32)\n",
    "\n",
    "features = data[:,:-1]\n",
    "labels = data[:,-1]\n",
    "\n",
    "print(\"Data attributes:\")\n",
    "print(attr_names)\n",
    "print(features.shape)\n",
    "print(labels.shape)\n",
    "\n"
   ]
  },
  {
   "cell_type": "code",
   "execution_count": 5,
   "metadata": {
    "colab": {
     "base_uri": "https://localhost:8080/",
     "height": 129
    },
    "id": "MAAMvhNVZHsR",
    "outputId": "0048e4a5-f19c-499c-b47b-24ced27a9545"
   },
   "outputs": [
    {
     "name": "stdout",
     "output_type": "stream",
     "text": [
      "[4.6     0.12    0.      1.2     0.012   1.      6.      0.99064 2.74\n",
      " 0.33    8.4     3.     ]\n",
      "[ 15.9      1.33     1.      15.5      0.611   68.     165.       1.0032\n",
      "   3.9      2.      14.9      8.    ]\n",
      "[ 8.728898    0.52829     0.29458055  2.5794      0.09037506 15.171\n",
      " 48.328       0.9973502   3.2990983   0.66852003 10.240709    5.594     ]\n"
     ]
    }
   ],
   "source": [
    "# what is the range? what is the min/max? what is the mean?\n",
    "print(np.amin(data,axis=0))\n",
    "print(np.amax(data,axis=0))\n",
    "print(np.mean(data,axis=0))"
   ]
  },
  {
   "cell_type": "code",
   "execution_count": 6,
   "metadata": {
    "colab": {
     "base_uri": "https://localhost:8080/",
     "height": 265
    },
    "id": "MrFEaDTRb8HE",
    "outputId": "0c181830-b045-4886-b72a-59e22fc13dce"
   },
   "outputs": [
    {
     "data": {
      "image/png": "[encoded data removed]",
      "text/plain": [
       "<Figure size 432x288 with 1 Axes>"
      ]
     },
     "metadata": {
      "needs_background": "light"
     },
     "output_type": "display_data"
    }
   ],
   "source": [
    "# Its also useful to plot histograms of the features\n",
    "plt.figure()\n",
    "plt.hist(data[:, 0], bins=50);  # Jupyter tip: add a ';' at the end, to suppress the text output"
   ]
  },
  {
   "cell_type": "markdown",
   "metadata": {
    "id": "_H7B_EggKKrE"
   },
   "source": [
    "## Linear Regression"
   ]
  },
  {
   "cell_type": "markdown",
   "metadata": {
    "id": "munYcZbIksAL"
   },
   "source": [
    "As a reminder we would like to find the optimal parameter $\\theta$ for the function\n",
    "$$f_{\\theta}(x)=\\theta_0+\\theta x$$\n",
    "such that it minimizes the squared error:\n",
    "$$L(\\mathcal{D},\\theta)=\\frac{1}{N}\\sum_{n=1}^N(y_n-f_{\\theta}(x_n))^2.$$\n",
    "\n",
    "On the lecture we learned about the normal equation to solve this:\n",
    "$$\\theta=(X^TX)^{-1}X^Ty,$$\n",
    "where each row of $X$ contains the features of one datapoint from the dataset. Turns out this is a really bad approach to solve this problem due to numerical instabilities (see the exercise at the end of the notebook) and also very slow if you have many features. Instead, we are going to use gradient descent, to solve the problem. First note that (ignoring $\\theta_0$):\n",
    "$$L(\\mathcal{D},\\theta)=\\frac{1}{N}\\sum_{n=1}^N(y_n-f_{\\theta}(x_n))^2=\\frac{1}{N}\\sum_{n=1}^N(y_n-\\theta x_n)^2.$$\n",
    "This is a quadratic function in $\\theta$, we can plot it:"
   ]
  },
  {
   "cell_type": "markdown",
   "metadata": {
    "id": "KeTUVn2eWoHM"
   },
   "source": [
    "![alt](https://drive.google.com/uc?export=download&id=1kAr_3NqddrbZua1Z5EOgzPnJlQphpKX6)"
   ]
  },
  {
   "cell_type": "markdown",
   "metadata": {
    "id": "6DDTpewTWDkJ"
   },
   "source": [
    "The algorithm of gradient descent:\n",
    "1. Initialize $\\theta^{(0)}$ to zero (or set randomly)\n",
    "2. Update $\\theta$:  \n",
    "$\\theta^{(t)}=\\theta^{(t-1)}−\\alpha\\nabla_{\\theta} L(\\mathcal D, \\theta)$\n",
    "3. Iterate until it converges, or for a certain number of iterations.\n",
    "\n",
    "In our case $\\nabla_{\\theta} L(\\mathcal D, \\theta)=\\frac{1}{N}\\sum_{n=1}^N-2x_n(y_n-\\theta x_n)=-\\frac{2}{N}X^T(y-X\\theta)$. \n",
    "\n",
    "See below the implementation of the linear regression class. `fit_intercept` is `True` if we want to use the $\\theta_0$ constant parameter. The trick to add back $\\theta_0$ to our formula:\n",
    "$$x_n'=(1,x_n),\\  \\theta'=\\begin{pmatrix}\\theta_0 \\\\ \\theta \\end{pmatrix}$$\n",
    "\n",
    "$$L(\\mathcal D, \\theta)=\\frac{1}{N}\\sum_{n=1}^N(y_n-\\theta_0-\\theta x_n)^2=\\frac{1}{N}\\sum_{n=1}^N(y_n-\\theta' x_n')^2$$\n",
    "In vectorized form:\n",
    "$$X'=\\left[\\begin{array}{c|c}\n",
    "\\begin{matrix}1 \\\\ \\vdots \\\\ 1 \\end{matrix} & X \n",
    "\\end{array}\n",
    "\\right]$$\n",
    "This trick lets us handle $\\theta_0$ as part of $\\theta$, simplifying our code."
   ]
  },
  {
   "cell_type": "code",
   "execution_count": 7,
   "metadata": {
    "id": "UIe5x8koksAj"
   },
   "outputs": [],
   "source": [
    "class LinearRegression:\n",
    "    def __init__(self, lr=0.01, num_iter=10000, fit_intercept=True):\n",
    "        self.lr = lr\n",
    "        self.num_iter = num_iter\n",
    "        self.fit_intercept = fit_intercept\n",
    "        self.train_theta = []\n",
    "        #self.eps = 0.00000001\n",
    "    \n",
    "    def __add_intercept(self, X):\n",
    "        # add a column of 1s\n",
    "        intercept = np.ones((X.shape[0], 1))\n",
    "        return np.concatenate((intercept, X), axis=1)\n",
    "    \n",
    "    def __loss(self, h, y):\n",
    "        return np.mean(np.square(h - y))\n",
    "    \n",
    "    def fit(self, X, y):\n",
    "        if self.fit_intercept:\n",
    "            X = self.__add_intercept(X)\n",
    "        \n",
    "        # weights initialization\n",
    "        self.theta = np.zeros(X.shape[1])\n",
    "        \n",
    "        loss_vals = []\n",
    "        t_theta = []\n",
    "        for i in range(self.num_iter):\n",
    "            h = np.dot(X, self.theta)\n",
    "            gradient = 2*np.dot(X.T, h - y) / y.size\n",
    "            self.theta -= self.lr * gradient\n",
    "            \n",
    "            t_theta.append(np.copy(self.theta))\n",
    "            \n",
    "            h = np.dot(X, self.theta)\n",
    "            loss = self.__loss(h, y)\n",
    "            loss_vals.append(loss)\n",
    "        \n",
    "        return loss_vals, t_theta\n",
    "    \n",
    "    def predict(self, X):\n",
    "        if self.fit_intercept:\n",
    "            X = self.__add_intercept(X)\n",
    "    \n",
    "        return np.dot(X, self.theta)\n",
    "    "
   ]
  },
  {
   "cell_type": "code",
   "execution_count": 23,
   "metadata": {},
   "outputs": [
    {
     "name": "stdout",
     "output_type": "stream",
     "text": [
      "[[ 7.4   0.7   0.   ...  3.51  0.56  9.4 ]\n",
      " [ 7.8   0.88  0.   ...  3.2   0.68  9.8 ]\n",
      " [ 7.8   0.76  0.04 ...  3.26  0.65  9.8 ]\n",
      " ...\n",
      " [ 7.2   0.34  0.32 ...  3.32  0.79 11.1 ]\n",
      " [10.7   0.35  0.53 ...  3.15  0.65 11.  ]\n",
      " [ 8.7   0.69  0.31 ...  3.48  0.74 11.6 ]]\n",
      "[[1.]\n",
      " [1.]\n",
      " [1.]\n",
      " [1.]\n",
      " [1.]\n",
      " [1.]\n",
      " [1.]\n",
      " [1.]\n",
      " [1.]\n",
      " [1.]\n",
      " [1.]\n",
      " [1.]\n",
      " [1.]\n",
      " [1.]\n",
      " [1.]\n",
      " [1.]\n",
      " [1.]\n",
      " [1.]\n",
      " [1.]\n",
      " [1.]\n",
      " [1.]\n",
      " [1.]\n",
      " [1.]\n",
      " [1.]\n",
      " [1.]\n",
      " [1.]\n",
      " [1.]\n",
      " [1.]\n",
      " [1.]\n",
      " [1.]\n",
      " [1.]\n",
      " [1.]\n",
      " [1.]\n",
      " [1.]\n",
      " [1.]\n",
      " [1.]\n",
      " [1.]\n",
      " [1.]\n",
      " [1.]\n",
      " [1.]\n",
      " [1.]\n",
      " [1.]\n",
      " [1.]\n",
      " [1.]\n",
      " [1.]\n",
      " [1.]\n",
      " [1.]\n",
      " [1.]\n",
      " [1.]\n",
      " [1.]\n",
      " [1.]\n",
      " [1.]\n",
      " [1.]\n",
      " [1.]\n",
      " [1.]\n",
      " [1.]\n",
      " [1.]\n",
      " [1.]\n",
      " [1.]\n",
      " [1.]\n",
      " [1.]\n",
      " [1.]\n",
      " [1.]\n",
      " [1.]\n",
      " [1.]\n",
      " [1.]\n",
      " [1.]\n",
      " [1.]\n",
      " [1.]\n",
      " [1.]\n",
      " [1.]\n",
      " [1.]\n",
      " [1.]\n",
      " [1.]\n",
      " [1.]\n",
      " [1.]\n",
      " [1.]\n",
      " [1.]\n",
      " [1.]\n",
      " [1.]\n",
      " [1.]\n",
      " [1.]\n",
      " [1.]\n",
      " [1.]\n",
      " [1.]\n",
      " [1.]\n",
      " [1.]\n",
      " [1.]\n",
      " [1.]\n",
      " [1.]\n",
      " [1.]\n",
      " [1.]\n",
      " [1.]\n",
      " [1.]\n",
      " [1.]\n",
      " [1.]\n",
      " [1.]\n",
      " [1.]\n",
      " [1.]\n",
      " [1.]\n",
      " [1.]\n",
      " [1.]\n",
      " [1.]\n",
      " [1.]\n",
      " [1.]\n",
      " [1.]\n",
      " [1.]\n",
      " [1.]\n",
      " [1.]\n",
      " [1.]\n",
      " [1.]\n",
      " [1.]\n",
      " [1.]\n",
      " [1.]\n",
      " [1.]\n",
      " [1.]\n",
      " [1.]\n",
      " [1.]\n",
      " [1.]\n",
      " [1.]\n",
      " [1.]\n",
      " [1.]\n",
      " [1.]\n",
      " [1.]\n",
      " [1.]\n",
      " [1.]\n",
      " [1.]\n",
      " [1.]\n",
      " [1.]\n",
      " [1.]\n",
      " [1.]\n",
      " [1.]\n",
      " [1.]\n",
      " [1.]\n",
      " [1.]\n",
      " [1.]\n",
      " [1.]\n",
      " [1.]\n",
      " [1.]\n",
      " [1.]\n",
      " [1.]\n",
      " [1.]\n",
      " [1.]\n",
      " [1.]\n",
      " [1.]\n",
      " [1.]\n",
      " [1.]\n",
      " [1.]\n",
      " [1.]\n",
      " [1.]\n",
      " [1.]\n",
      " [1.]\n",
      " [1.]\n",
      " [1.]\n",
      " [1.]\n",
      " [1.]\n",
      " [1.]\n",
      " [1.]\n",
      " [1.]\n",
      " [1.]\n",
      " [1.]\n",
      " [1.]\n",
      " [1.]\n",
      " [1.]\n",
      " [1.]\n",
      " [1.]\n",
      " [1.]\n",
      " [1.]\n",
      " [1.]\n",
      " [1.]\n",
      " [1.]\n",
      " [1.]\n",
      " [1.]\n",
      " [1.]\n",
      " [1.]\n",
      " [1.]\n",
      " [1.]\n",
      " [1.]\n",
      " [1.]\n",
      " [1.]\n",
      " [1.]\n",
      " [1.]\n",
      " [1.]\n",
      " [1.]\n",
      " [1.]\n",
      " [1.]\n",
      " [1.]\n",
      " [1.]\n",
      " [1.]\n",
      " [1.]\n",
      " [1.]\n",
      " [1.]\n",
      " [1.]\n",
      " [1.]\n",
      " [1.]\n",
      " [1.]\n",
      " [1.]\n",
      " [1.]\n",
      " [1.]\n",
      " [1.]\n",
      " [1.]\n",
      " [1.]\n",
      " [1.]\n",
      " [1.]\n",
      " [1.]\n",
      " [1.]\n",
      " [1.]\n",
      " [1.]\n",
      " [1.]\n",
      " [1.]\n",
      " [1.]\n",
      " [1.]\n",
      " [1.]\n",
      " [1.]\n",
      " [1.]\n",
      " [1.]\n",
      " [1.]\n",
      " [1.]\n",
      " [1.]\n",
      " [1.]\n",
      " [1.]\n",
      " [1.]\n",
      " [1.]\n",
      " [1.]\n",
      " [1.]\n",
      " [1.]\n",
      " [1.]\n",
      " [1.]\n",
      " [1.]\n",
      " [1.]\n",
      " [1.]\n",
      " [1.]\n",
      " [1.]\n",
      " [1.]\n",
      " [1.]\n",
      " [1.]\n",
      " [1.]\n",
      " [1.]\n",
      " [1.]\n",
      " [1.]\n",
      " [1.]\n",
      " [1.]\n",
      " [1.]\n",
      " [1.]\n",
      " [1.]\n",
      " [1.]\n",
      " [1.]\n",
      " [1.]\n",
      " [1.]\n",
      " [1.]\n",
      " [1.]\n",
      " [1.]\n",
      " [1.]\n",
      " [1.]\n",
      " [1.]\n",
      " [1.]\n",
      " [1.]\n",
      " [1.]\n",
      " [1.]\n",
      " [1.]\n",
      " [1.]\n",
      " [1.]\n",
      " [1.]\n",
      " [1.]\n",
      " [1.]\n",
      " [1.]\n",
      " [1.]\n",
      " [1.]\n",
      " [1.]\n",
      " [1.]\n",
      " [1.]\n",
      " [1.]\n",
      " [1.]\n",
      " [1.]\n",
      " [1.]\n",
      " [1.]\n",
      " [1.]\n",
      " [1.]\n",
      " [1.]\n",
      " [1.]\n",
      " [1.]\n",
      " [1.]\n",
      " [1.]\n",
      " [1.]\n",
      " [1.]\n",
      " [1.]\n",
      " [1.]\n",
      " [1.]\n",
      " [1.]\n",
      " [1.]\n",
      " [1.]\n",
      " [1.]\n",
      " [1.]\n",
      " [1.]\n",
      " [1.]\n",
      " [1.]\n",
      " [1.]\n",
      " [1.]\n",
      " [1.]\n",
      " [1.]\n",
      " [1.]\n",
      " [1.]\n",
      " [1.]\n",
      " [1.]\n",
      " [1.]\n",
      " [1.]\n",
      " [1.]\n",
      " [1.]\n",
      " [1.]\n",
      " [1.]\n",
      " [1.]\n",
      " [1.]\n",
      " [1.]\n",
      " [1.]\n",
      " [1.]\n",
      " [1.]\n",
      " [1.]\n",
      " [1.]\n",
      " [1.]\n",
      " [1.]\n",
      " [1.]\n",
      " [1.]\n",
      " [1.]\n",
      " [1.]\n",
      " [1.]\n",
      " [1.]\n",
      " [1.]\n",
      " [1.]\n",
      " [1.]\n",
      " [1.]\n",
      " [1.]\n",
      " [1.]\n",
      " [1.]\n",
      " [1.]\n",
      " [1.]\n",
      " [1.]\n",
      " [1.]\n",
      " [1.]\n",
      " [1.]\n",
      " [1.]\n",
      " [1.]\n",
      " [1.]\n",
      " [1.]\n",
      " [1.]\n",
      " [1.]\n",
      " [1.]\n",
      " [1.]\n",
      " [1.]\n",
      " [1.]\n",
      " [1.]\n",
      " [1.]\n",
      " [1.]\n",
      " [1.]\n",
      " [1.]\n",
      " [1.]\n",
      " [1.]\n",
      " [1.]\n",
      " [1.]\n",
      " [1.]\n",
      " [1.]\n",
      " [1.]\n",
      " [1.]\n",
      " [1.]\n",
      " [1.]\n",
      " [1.]\n",
      " [1.]\n",
      " [1.]\n",
      " [1.]\n",
      " [1.]\n",
      " [1.]\n",
      " [1.]\n",
      " [1.]\n",
      " [1.]\n",
      " [1.]\n",
      " [1.]\n",
      " [1.]\n",
      " [1.]\n",
      " [1.]\n",
      " [1.]\n",
      " [1.]\n",
      " [1.]\n",
      " [1.]\n",
      " [1.]\n",
      " [1.]\n",
      " [1.]\n",
      " [1.]\n",
      " [1.]\n",
      " [1.]\n",
      " [1.]\n",
      " [1.]\n",
      " [1.]\n",
      " [1.]\n",
      " [1.]\n",
      " [1.]\n",
      " [1.]\n",
      " [1.]\n",
      " [1.]\n",
      " [1.]\n",
      " [1.]\n",
      " [1.]\n",
      " [1.]\n",
      " [1.]\n",
      " [1.]\n",
      " [1.]\n",
      " [1.]\n",
      " [1.]\n",
      " [1.]\n",
      " [1.]\n",
      " [1.]\n",
      " [1.]\n",
      " [1.]\n",
      " [1.]\n",
      " [1.]\n",
      " [1.]\n",
      " [1.]\n",
      " [1.]\n",
      " [1.]\n",
      " [1.]\n",
      " [1.]\n",
      " [1.]\n",
      " [1.]\n",
      " [1.]\n",
      " [1.]\n",
      " [1.]\n",
      " [1.]\n",
      " [1.]\n",
      " [1.]\n",
      " [1.]\n",
      " [1.]\n",
      " [1.]\n",
      " [1.]\n",
      " [1.]\n",
      " [1.]\n",
      " [1.]\n",
      " [1.]\n",
      " [1.]\n",
      " [1.]\n",
      " [1.]\n",
      " [1.]\n",
      " [1.]\n",
      " [1.]\n",
      " [1.]\n",
      " [1.]\n",
      " [1.]\n",
      " [1.]\n",
      " [1.]\n",
      " [1.]\n",
      " [1.]\n",
      " [1.]\n",
      " [1.]\n",
      " [1.]\n",
      " [1.]\n",
      " [1.]\n",
      " [1.]\n",
      " [1.]\n",
      " [1.]\n",
      " [1.]\n",
      " [1.]\n",
      " [1.]\n",
      " [1.]\n",
      " [1.]\n",
      " [1.]\n",
      " [1.]\n",
      " [1.]\n",
      " [1.]\n",
      " [1.]\n",
      " [1.]\n",
      " [1.]\n",
      " [1.]\n",
      " [1.]\n",
      " [1.]\n",
      " [1.]\n",
      " [1.]\n",
      " [1.]\n",
      " [1.]\n",
      " [1.]\n",
      " [1.]\n",
      " [1.]\n",
      " [1.]\n",
      " [1.]\n",
      " [1.]\n",
      " [1.]\n",
      " [1.]\n",
      " [1.]\n",
      " [1.]\n",
      " [1.]\n",
      " [1.]\n",
      " [1.]\n",
      " [1.]\n",
      " [1.]\n",
      " [1.]\n",
      " [1.]\n",
      " [1.]\n",
      " [1.]\n",
      " [1.]\n",
      " [1.]\n",
      " [1.]\n",
      " [1.]\n",
      " [1.]\n",
      " [1.]]\n"
     ]
    },
    {
     "ename": "NameError",
     "evalue": "name 'X' is not defined",
     "output_type": "error",
     "traceback": [
      "\u001b[0;31m---------------------------------------------------------------------------\u001b[0m",
      "\u001b[0;31mNameError\u001b[0m                                 Traceback (most recent call last)",
      "\u001b[0;32m<ipython-input-23-8cc06c95b1ab>\u001b[0m in \u001b[0;36m<module>\u001b[0;34m\u001b[0m\n\u001b[1;32m      3\u001b[0m \u001b[0mprint\u001b[0m\u001b[0;34m(\u001b[0m\u001b[0mintercept\u001b[0m\u001b[0;34m)\u001b[0m\u001b[0;34m\u001b[0m\u001b[0;34m\u001b[0m\u001b[0m\n\u001b[1;32m      4\u001b[0m \u001b[0;34m\u001b[0m\u001b[0m\n\u001b[0;32m----> 5\u001b[0;31m \u001b[0mprint\u001b[0m\u001b[0;34m(\u001b[0m\u001b[0mnp\u001b[0m\u001b[0;34m.\u001b[0m\u001b[0mconcatenate\u001b[0m\u001b[0;34m(\u001b[0m\u001b[0;34m(\u001b[0m\u001b[0mintercept\u001b[0m\u001b[0;34m,\u001b[0m \u001b[0mX\u001b[0m\u001b[0;34m)\u001b[0m\u001b[0;34m,\u001b[0m \u001b[0maxis\u001b[0m\u001b[0;34m=\u001b[0m\u001b[0;36m1\u001b[0m\u001b[0;34m)\u001b[0m\u001b[0;34m)\u001b[0m\u001b[0;34m\u001b[0m\u001b[0;34m\u001b[0m\u001b[0m\n\u001b[0m",
      "\u001b[0;31mNameError\u001b[0m: name 'X' is not defined"
     ]
    }
   ],
   "source": [
    "print(X_train)\n",
    "intercept = np.ones((X_train.shape[0], 1))\n",
    "print(intercept)\n",
    "\n",
    "print(np.concatenate((intercept, X), axis=1))"
   ]
  },
  {
   "cell_type": "markdown",
   "metadata": {
    "id": "NYO1QIceKdEe"
   },
   "source": [
    "## Preprocessing the data"
   ]
  },
  {
   "cell_type": "markdown",
   "metadata": {
    "id": "1YocW5c_Ku4W"
   },
   "source": [
    "Selecting X, Y, separating the data into a train and a test set:"
   ]
  },
  {
   "cell_type": "code",
   "execution_count": 8,
   "metadata": {
    "colab": {
     "base_uri": "https://localhost:8080/",
     "height": 92
    },
    "id": "6ATDtyb6K-dK",
    "outputId": "8a9d9bbf-4435-4533-c0cb-796a6315f15f"
   },
   "outputs": [
    {
     "name": "stdout",
     "output_type": "stream",
     "text": [
      "(500, 11)\n",
      "(500,)\n",
      "(500, 11)\n",
      "(500,)\n"
     ]
    }
   ],
   "source": [
    "X_train = features[:500]\n",
    "y_train = labels[:500]\n",
    "X_test = features[500:]\n",
    "y_test = labels[500:]\n",
    "\n",
    "print(X_train.shape)\n",
    "print(y_train.shape)\n",
    "print(X_test.shape)\n",
    "print(y_test.shape)\n"
   ]
  },
  {
   "cell_type": "markdown",
   "metadata": {
    "id": "Y_tZc4QSbeev"
   },
   "source": [
    "Feature scaling methods: one for calculating the average and the deviation of each feature, which will be used for normalizing the input, and another one that normalizes an input based on the already calculated average and deviation."
   ]
  },
  {
   "cell_type": "code",
   "execution_count": 9,
   "metadata": {
    "id": "L2pQ3lkUbhcv"
   },
   "outputs": [],
   "source": [
    "def std_normalization(data):\n",
    "    # params: data: ndarray(n_samples, n_features)\n",
    "    data = np.asarray(data, dtype=np.float64)\n",
    "    eps = 0.0000001\n",
    "    x_mean = np.mean(data, axis=0)\n",
    "    x_std = np.std(data, axis=0)\n",
    "    x_norm = (data-x_mean) / (x_std + eps)\n",
    "    \n",
    "    return x_norm, x_mean, x_std\n",
    "  \n",
    "def std_normalize_with_given_meanstd(data, x_mean, x_std):\n",
    "    eps = 0.0000001\n",
    "    x_norm = (data-x_mean) / (x_std + eps)\n",
    "    return x_norm"
   ]
  },
  {
   "cell_type": "code",
   "execution_count": 10,
   "metadata": {
    "id": "Hg6suT-0lwb7"
   },
   "outputs": [],
   "source": [
    "X_train_n, x_mean, x_std = std_normalization(X_train)\n",
    "X_test_n = std_normalize_with_given_meanstd(X_test, x_mean, x_std)"
   ]
  },
  {
   "cell_type": "markdown",
   "metadata": {
    "id": "In-I8wdxlwca"
   },
   "source": [
    "## Training and evaluation"
   ]
  },
  {
   "cell_type": "code",
   "execution_count": 11,
   "metadata": {
    "colab": {
     "base_uri": "https://localhost:8080/",
     "height": 302
    },
    "id": "9bZ5AIn0lwci",
    "outputId": "b2c15c1f-ee2a-40c3-f48c-e2a461989023"
   },
   "outputs": [
    {
     "data": {
      "image/png": "[encoded data removed]",
      "text/plain": [
       "<Figure size 432x288 with 1 Axes>"
      ]
     },
     "metadata": {
      "needs_background": "light"
     },
     "output_type": "display_data"
    },
    {
     "name": "stdout",
     "output_type": "stream",
     "text": [
      "Training mean absolute error: 0.5001771395641166\n",
      "Test mean absolute error: 0.5162361807381445\n"
     ]
    }
   ],
   "source": [
    "# if features are not scaled to same magnitude higher learning rate causes big fluctuations\n",
    "# model = LinearRegression(lr=0.00001, num_iter=50000)   \n",
    "\n",
    "model = LinearRegression(lr=0.001, num_iter=50000)\n",
    "\n",
    "loss, t_theta = model.fit(X_train_n, y_train)\n",
    "\n",
    "plt.plot(loss)\n",
    "plt.show();\n",
    "\n",
    "preds_train = model.predict(X_train_n)\n",
    "print(\"Training mean absolute error: \" + str(np.abs(preds_train - y_train).mean()))\n",
    "preds_test = model.predict(X_test_n)\n",
    "print(\"Test mean absolute error: \" + str(np.abs(preds_test - y_test).mean()))"
   ]
  },
  {
   "cell_type": "code",
   "execution_count": 12,
   "metadata": {},
   "outputs": [],
   "source": [
    "n_theta= np.dot(np.dot(np.linalg.inv(np.dot(X_train_n.T, X_train)),X_train.T),y_train)"
   ]
  },
  {
   "cell_type": "code",
   "execution_count": 13,
   "metadata": {},
   "outputs": [
    {
     "data": {
      "text/plain": [
       "array([ 5.588     ,  0.15146245, -0.17987487, -0.1207094 ,  0.01039456,\n",
       "       -0.06566937,  0.03065106, -0.15662395,  0.00917041, -0.01475676,\n",
       "        0.10756634,  0.30837123])"
      ]
     },
     "execution_count": 13,
     "metadata": {},
     "output_type": "execute_result"
    }
   ],
   "source": [
    "model.theta"
   ]
  },
  {
   "cell_type": "code",
   "execution_count": 14,
   "metadata": {},
   "outputs": [
    {
     "data": {
      "text/plain": [
       "array([ 3.93112763e+02, -5.59260961e+02, -1.50251876e+03,  7.48843417e-01,\n",
       "        2.98219262e+03, -3.61247185e+01,  2.05272089e+01, -1.11219848e+05,\n",
       "        2.27590211e+03, -1.44202456e+02,  3.29684088e+01])"
      ]
     },
     "execution_count": 14,
     "metadata": {},
     "output_type": "execute_result"
    }
   ],
   "source": [
    "n_theta"
   ]
  },
  {
   "cell_type": "code",
   "execution_count": 15,
   "metadata": {},
   "outputs": [
    {
     "name": "stdout",
     "output_type": "stream",
     "text": [
      "Training mean absolute error: 0.5001771395641166\n",
      "Test mean absolute error: 0.5162361807381445\n",
      "Training mean absolute error: 85822.76436149086\n",
      "Test mean absolute error: 92641.25228101997\n"
     ]
    }
   ],
   "source": [
    "preds_train = model.predict(X_train_n)\n",
    "print(\"Training mean absolute error: \" + str(np.abs(preds_train - y_train).mean()))\n",
    "preds_test = model.predict(X_test_n)\n",
    "print(\"Test mean absolute error: \" + str(np.abs(preds_test - y_test).mean()))\n",
    "\n",
    "\n",
    "print(\"Training mean absolute error: \" + str(np.abs(np.dot(X_train_n, n_theta) - y_train).mean()))\n",
    "preds_test = model.predict(X_test_n)\n",
    "print(\"Test mean absolute error: \" + str(np.abs(np.dot(X_test_n, n_theta) - y_test).mean()))"
   ]
  },
  {
   "cell_type": "code",
   "execution_count": 16,
   "metadata": {},
   "outputs": [
    {
     "data": {
      "text/plain": [
       "<Figure size 432x288 with 0 Axes>"
      ]
     },
     "metadata": {},
     "output_type": "display_data"
    }
   ],
   "source": [
    "plt.figure()\n",
    "theta_means = [x.mean() for x in t_theta]"
   ]
  },
  {
   "cell_type": "code",
   "execution_count": 17,
   "metadata": {},
   "outputs": [
    {
     "data": {
      "text/plain": [
       "[<matplotlib.lines.Line2D at 0x7f027fac3fa0>]"
      ]
     },
     "execution_count": 17,
     "metadata": {},
     "output_type": "execute_result"
    },
    {
     "data": {
      "image/png": "[encoded data removed]",
      "text/plain": [
       "<Figure size 432x288 with 1 Axes>"
      ]
     },
     "metadata": {
      "needs_background": "light"
     },
     "output_type": "display_data"
    }
   ],
   "source": [
    "plt.figure()\n",
    "plt.plot(theta_means)"
   ]
  },
  {
   "cell_type": "code",
   "execution_count": 18,
   "metadata": {},
   "outputs": [
    {
     "data": {
      "text/plain": [
       "array([0.74998298, 0.72978515, 0.72978515, 0.54252213, 0.51321053,\n",
       "       0.51391834, 0.55576404, 0.48786905, 0.36983303, 0.54825347,\n",
       "       0.77988776, 0.36983303, 0.28360459, 0.78675706, 0.78675706,\n",
       "       0.0747017 , 0.46569878, 0.56245544, 0.67373534, 0.01320689,\n",
       "       0.20745125, 0.34775734, 0.0408415 , 0.14861931, 0.61382622,\n",
       "       0.67373534, 0.18331795, 0.80127641, 0.42834654, 0.19548684,\n",
       "       0.96948933, 0.96948933, 0.93322749, 0.23246237, 0.19548684,\n",
       "       0.42834654, 0.36076743, 0.29860022, 0.47617875, 0.11660472,\n",
       "       0.51320177, 0.01600046, 0.24492273, 0.05468622, 0.54336529,\n",
       "       0.27907373, 0.08209792, 0.74681384, 0.52829265, 0.19140592,\n",
       "       0.19838631, 0.01713484, 0.25258407, 0.25258407, 0.72268985,\n",
       "       0.00477935, 0.00918075, 0.41495914, 0.72268985, 0.94200051,\n",
       "       0.94200051, 0.21555005, 0.03356557, 0.37249682, 0.03356557,\n",
       "       0.26735547, 0.22509665, 0.0963786 , 0.15938867, 0.21947228,\n",
       "       0.68704222, 0.68704222, 0.52120072, 0.90497004, 0.83656028,\n",
       "       0.59188724, 0.73514358, 0.24463838, 0.7977233 , 0.32096616,\n",
       "       0.63332705, 0.32096616, 0.21321298, 0.19914152, 0.00728622,\n",
       "       0.22756974, 0.26093625, 0.5337951 , 0.30422107, 0.3861141 ,\n",
       "       0.18548256, 0.3861141 , 0.78877942, 0.64088203, 0.47413396,\n",
       "       0.33415608, 0.44666019, 0.39009238, 0.41259712, 0.86295935,\n",
       "       0.41120126, 0.69081669, 0.44836515, 0.24527246, 0.24527246,\n",
       "       0.09430018, 0.92557934, 0.87155801, 0.06843417, 0.07838778,\n",
       "       0.52260444, 0.37284619, 0.45540892, 0.45540892, 0.24743493,\n",
       "       0.24743493, 0.62775433, 0.0659454 , 0.62775433, 0.74627673,\n",
       "       0.16964153, 0.38887007, 0.36753131, 0.3701196 , 0.36437707,\n",
       "       0.25686933, 0.41380814, 0.25140367, 0.41380814, 0.25140367,\n",
       "       0.41380814, 0.53693991, 0.91936334, 0.48721055, 0.64305831,\n",
       "       0.24978636, 0.30949373, 0.36271463, 0.50867379, 0.64305831,\n",
       "       0.36760301, 0.36760301, 0.28106423, 0.49393889, 0.15756799,\n",
       "       0.90797047, 0.5505815 , 0.66719218, 0.19874232, 0.76858316,\n",
       "       0.19874232, 0.60164822, 0.28571943, 0.72314706, 0.28571943,\n",
       "       0.26438681, 0.83886469, 0.26438681, 0.32418955, 0.2254826 ,\n",
       "       0.79825095, 0.571337  , 0.31660235, 0.50215373, 0.7902479 ,\n",
       "       0.50390046, 0.7902479 , 0.09564059, 0.44139691, 0.38623519,\n",
       "       0.60902698, 0.10974485, 0.02235923, 0.10205429, 0.1084413 ,\n",
       "       0.32270103, 0.60520676, 0.60520676, 0.29861252, 0.19233767,\n",
       "       0.98555446, 0.60520676, 0.61560862, 0.01072124, 0.28334432,\n",
       "       0.69363681, 0.09830777, 0.13805344, 0.00958588, 0.04618951,\n",
       "       0.34792572, 0.27862913, 0.21472419, 0.71433534, 0.27862913,\n",
       "       0.60384798, 0.5305342 , 0.26794085, 0.5305342 , 0.15887657,\n",
       "       0.68096399, 0.75094537, 0.73937548, 0.18670272, 0.48241067,\n",
       "       0.48241067, 0.09831807, 0.01397104, 0.83746284, 0.16389523,\n",
       "       0.17550673, 0.29024858, 0.01339425, 0.01339425, 0.63998484,\n",
       "       0.19785468, 0.40229385, 0.08253865, 0.07279741, 0.33493173,\n",
       "       0.50261522, 0.3276343 , 0.50474071, 0.77752251, 0.34129775,\n",
       "       0.49218211, 0.50474071, 0.35498825, 0.35498825, 0.27269892,\n",
       "       0.35498825, 0.65119958, 0.60597274, 0.25300934, 0.25300934,\n",
       "       0.29238656, 0.16732414, 0.27752286, 0.3810715 , 0.27752286,\n",
       "       0.65668318, 0.64968188, 0.2129364 , 0.05245296, 0.83800165,\n",
       "       0.32290394, 0.83800165, 0.16895523, 0.05329184, 0.4962666 ,\n",
       "       0.50954614, 0.11495777, 0.91341514, 0.63690013, 0.81119555,\n",
       "       0.30784904, 0.78233417, 0.44406405, 0.1764482 , 0.44406405,\n",
       "       0.26525577, 0.48616677, 0.48616677, 0.35947028, 0.35947028,\n",
       "       0.06328067, 0.68346644, 0.01078209, 0.80303414, 0.93162395,\n",
       "       0.61098794, 0.58900415, 0.47338359, 0.89600019, 0.08193321,\n",
       "       0.08193321, 0.00971441, 0.69219515, 0.77096501, 0.57139798,\n",
       "       0.37564097, 0.24002292, 0.25891282, 0.24002292, 0.45492993,\n",
       "       0.30159461, 0.79297925, 0.21689473, 0.36375091, 0.0704357 ,\n",
       "       0.62724172, 0.15238132, 0.29751899, 0.38218779, 0.19092643,\n",
       "       0.44547794, 0.44547794, 0.66606459, 0.77511046, 0.82645231,\n",
       "       0.77511046, 0.14457193, 0.14457193, 0.2571724 , 0.15987894,\n",
       "       0.59139043, 0.48983551, 0.47023379, 0.55341132, 0.09471857,\n",
       "       0.19325246, 0.21159811, 0.29746124, 0.29746124, 0.61110618,\n",
       "       0.29746124, 0.29729778, 0.52185202, 0.52185202, 0.42890077,\n",
       "       0.07307186, 0.07307186, 0.90292417, 0.07307186, 0.75900944,\n",
       "       0.72582768, 0.03297656, 0.08639129, 0.68119139, 0.15140257,\n",
       "       0.08639129, 0.12507991, 0.07432971, 0.0374517 , 0.03297656,\n",
       "       0.1699871 , 0.02710523, 0.70943894, 0.66102261, 0.54876401,\n",
       "       0.5472832 , 0.02710523, 0.57052539, 0.11614665, 0.63745124,\n",
       "       0.02646409, 0.42786705, 0.11614665, 0.57052539, 0.65122676,\n",
       "       0.39618766, 0.56357804, 0.17749385, 0.05678451, 0.67687291,\n",
       "       0.13153179, 0.29377816, 0.13153179, 0.81084773, 0.24772623,\n",
       "       0.44855608, 0.24772623, 0.44855608, 0.12346888, 0.62077598,\n",
       "       0.0073636 , 0.24400202, 0.16541915, 0.69626035, 0.18901519,\n",
       "       0.48889542, 0.52145037, 0.16541915, 0.46197548, 0.21411748,\n",
       "       0.35927752, 0.0546036 , 0.28853092, 0.92234938, 0.0546036 ,\n",
       "       0.28853092, 0.35927752, 0.76837642, 0.09213901, 0.49085436,\n",
       "       0.7119543 , 0.5022596 , 0.63064276, 0.5022596 , 0.7119543 ,\n",
       "       0.25406353, 0.25406353, 0.47514155, 0.98285995, 0.40006705,\n",
       "       0.33684854, 0.60983697, 0.76436819, 0.49202549, 0.48121962,\n",
       "       0.35443882, 0.35443882, 0.35443882, 0.48121962, 0.76496218,\n",
       "       0.38278812, 0.26255384, 0.95545178, 0.1218374 , 0.07017919,\n",
       "       0.60925889, 0.14198624, 0.36539882, 0.44159367, 0.26815498,\n",
       "       0.14198624, 0.11367996, 0.63902009, 0.1470122 , 0.35894747,\n",
       "       0.61013156, 0.41960091, 0.41960091, 0.67933804, 0.97423502,\n",
       "       0.48695286, 0.24236742, 0.24236742, 0.1648134 , 0.05604267,\n",
       "       0.38304397, 0.42753353, 0.05604267, 0.07656182, 0.66781662,\n",
       "       0.28371007, 0.55004816, 0.16182656, 0.55004816, 0.30185515,\n",
       "       0.60531561, 0.30185515, 0.31093165, 0.40864438, 0.73244039,\n",
       "       0.73244039, 0.95119275, 0.33122525])"
      ]
     },
     "execution_count": 18,
     "metadata": {},
     "output_type": "execute_result"
    }
   ],
   "source": [
    "test_error = np.abs(preds_test - y_test)\n",
    "less_one = test_error[test_error < 1]\n",
    "less_point_one = test_error[test_error < 0.1]\n",
    "less_one"
   ]
  },
  {
   "cell_type": "code",
   "execution_count": 19,
   "metadata": {},
   "outputs": [
    {
     "data": {
      "image/png": "[encoded data removed]",
      "text/plain": [
       "<Figure size 432x288 with 1 Axes>"
      ]
     },
     "metadata": {
      "needs_background": "light"
     },
     "output_type": "display_data"
    }
   ],
   "source": [
    "plt.figure()\n",
    "plt.hist(less_one, bins=50);\n",
    "plt.hist(less_point_one, bins=50);"
   ]
  },
  {
   "cell_type": "code",
   "execution_count": null,
   "metadata": {},
   "outputs": [],
   "source": []
  },
  {
   "cell_type": "code",
   "execution_count": 20,
   "metadata": {
    "id": "k6VtWM8DT-8W"
   },
   "outputs": [
    {
     "ename": "SyntaxError",
     "evalue": "invalid syntax (<ipython-input-20-858d66e85edf>, line 2)",
     "output_type": "error",
     "traceback": [
      "\u001b[0;36m  File \u001b[0;32m\"<ipython-input-20-858d66e85edf>\"\u001b[0;36m, line \u001b[0;32m2\u001b[0m\n\u001b[0;31m    Calculate how many percent of the test set has an error less than 1/ 0.1\u001b[0m\n\u001b[0m              ^\u001b[0m\n\u001b[0;31mSyntaxError\u001b[0m\u001b[0;31m:\u001b[0m invalid syntax\n"
     ]
    }
   ],
   "source": [
    "# exercise: print the hsitogram of errors;\n",
    "Calculate how many percent of the test set has an error less than 1/ 0.1"
   ]
  },
  {
   "cell_type": "markdown",
   "metadata": {
    "id": "36dNt0CjMWN9"
   },
   "source": [
    "**Conclusion:** The trained model could predict the wines' quality rating on a scale from 1 to 10 with an absolute error of around 0.5. Considering that most of the wines in the database have a rating between 3 and 8, this is not exactly a remarkable result. Perhaps the wine that's proclaimed to be high quality is the same as a cheaper variant, and calling either wine higher quality is just plain snobbism? Or perhaps a linear function based on the chemical compound is not enough to approximate the quality sticker given by professionals, and we require a more complex model?"
   ]
  },
  {
   "cell_type": "markdown",
   "metadata": {
    "id": "-JDt0MGaItgs"
   },
   "source": [
    "Linear regression is already implemented in multiple python libraries. One implementation from the sklearn package:\n",
    "https://scikit-learn.org/stable/modules/generated/sklearn.linear_model.LinearRegression.html"
   ]
  },
  {
   "cell_type": "markdown",
   "metadata": {
    "id": "_o-_D1coZneR"
   },
   "source": [
    "## Exercises\n",
    "\n",
    "**1.** Prove the following vectorized form we used in gradient descent:\n",
    "$$\\nabla_{\\theta} L(\\mathcal D, \\theta)=\\frac{1}{N}\\sum_{n=1}^N-2x_n(y_n-\\theta x_n)=-\\frac{2}{N}X^T(y-X\\theta)$$\n",
    "\n",
    "**2.** Using the trained network inspect its results:  \n",
    "- Print out how `theta` changes during training. Set the learning rate to a low and a high value and see what happens.\n",
    "- Train the linear regression. Plot the histogram of prediction errors.\n",
    "- Calculate the percentage of predictions where the error is less than 1 or less than 0.1\n",
    "\n",
    "\n",
    "**3.** Solve the linear regression problem with the normal equation (see above). Compare it to our gradient descent solution:  \n",
    "- Which one has the lower train/test error?\n",
    "- Which one has the lower loss (the $L(\\mathcal D,\\theta)$ value)?\n",
    "\n",
    "*(For those who did numerical analysis)* We are inverting the matrix $X^TX$, which can be numerically unstable. Calculate the condition number of $X^TX$. What does it mean for the stability of our normal equation? Recall that\n",
    "$$\\kappa(M)=\\frac{\\sigma_{max}(M)}{\\sigma_{min}(M)},$$\n",
    "where $\\sigma_{max}(M)$ and $\\sigma_{max}(M)$ are the maximal and minimal singular values of $M$.\n"
   ]
  }
 ],
 "metadata": {
  "colab": {
   "collapsed_sections": [],
   "name": "Linear regression.ipynb",
   "provenance": [],
   "toc_visible": true
  },
  "kernelspec": {
   "display_name": "Python 3",
   "language": "python",
   "name": "python3"
  },
  "language_info": {
   "codemirror_mode": {
    "name": "ipython",
    "version": 3
   },
   "file_extension": ".py",
   "mimetype": "text/x-python",
   "name": "python",
   "nbconvert_exporter": "python",
   "pygments_lexer": "ipython3",
   "version": "3.8.5"
  }
 },
 "nbformat": 4,
 "nbformat_minor": 1
}
