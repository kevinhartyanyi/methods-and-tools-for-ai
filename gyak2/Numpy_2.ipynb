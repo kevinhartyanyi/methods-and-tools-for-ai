{
  "nbformat": 4,
  "nbformat_minor": 0,
  "metadata": {
    "colab": {
      "name": "Numpy 2.ipynb",
      "provenance": [],
      "collapsed_sections": []
    },
    "kernelspec": {
      "name": "python3",
      "display_name": "Python 3"
    }
  },
  "cells": [
    {
      "cell_type": "markdown",
      "metadata": {
        "id": "cLUOQVCcL439",
        "colab_type": "text"
      },
      "source": [
        "\n",
        "**Created by:**\n",
        "\n",
        "__[Viktor Varga](https://github.com/vvarga90)__,\n",
        "__Gulyás János Adrián__\n",
        "\n",
        "<br>\n",
        "\n",
        "<img src=\"https://docs.google.com/uc?export=download&id=1WzgXsCoz8O-NeBlJTbuLPC1iIFDmgYt1\" style=\"display:inline-block\">\n",
        "<hr>"
      ]
    },
    {
      "cell_type": "markdown",
      "metadata": {
        "id": "bg-N-ivOMFrq",
        "colab_type": "text"
      },
      "source": [
        "# Python tutorial - Numpy, chapter 2"
      ]
    },
    {
      "cell_type": "markdown",
      "metadata": {
        "id": "yCnahdpdNARe",
        "colab_type": "text"
      },
      "source": [
        "## Operations performed along certain axes\n",
        "\n",
        "These operations create new values from slices taken from one or more axis of an array. They all have an `axis` parameter, with which we can give along what axis the operation should be performed.\n",
        "\n",
        "For example, calling the `np.sum()` operation on a (2,3) sized array with the `axis=0` parameter will sum the elements along the axis with index #0, while calling it with the `axis=1` parameter will do the same along axis #1. In the former case, the resulting array will become (3,) shaped, while in the latter case it will become (2,) shaped. Multiple axes can be given with the `axis` parameter (by listing them in a tuple), in which case those axes will not appear in the result, as summation happens along all the given axes. If we call the `np.sum()` function on the array without the `axis` parameter, it will sum the entire array, resulting in a scalar (this means the function was called with the default `axis=None` argument)"
      ]
    },
    {
      "cell_type": "code",
      "metadata": {
        "id": "QyEuD6e91QM_",
        "colab_type": "code",
        "colab": {
          "base_uri": "https://localhost:8080/",
          "height": 181
        },
        "outputId": "80a0b89f-f095-422f-b0cb-4da2f1ef80af"
      },
      "source": [
        "import numpy as np\n",
        "\n",
        "a = np.arange(6, dtype=np.int32).reshape((2,3))\n",
        "print(\"The 2D 'a' array:\\n\", a)\n",
        "print(\"   ... its shape is\", a.shape)\n",
        "\n",
        "print(\"\\nSumming array along axis#0: \", np.sum(a, axis=0))\n",
        "print(\"Summing array along axis#1: \", np.sum(a, axis=1))\n",
        "print(\"Summing array along axis#0 and axis#1: \", np.sum(a, axis=(0,1)))\n",
        "print(\"Summing whole array: \", np.sum(a))"
      ],
      "execution_count": null,
      "outputs": [
        {
          "output_type": "stream",
          "text": [
            "The 2D 'a' array:\n",
            " [[0 1 2]\n",
            " [3 4 5]]\n",
            "   ... its shape is (2, 3)\n",
            "\n",
            "Summing array along axis#0:  [3 5 7]\n",
            "Summing array along axis#1:  [ 3 12]\n",
            "Summing array along axis#0 and axis#1:  15\n",
            "Summing whole array:  15\n"
          ],
          "name": "stdout"
        }
      ]
    },
    {
      "cell_type": "markdown",
      "metadata": {
        "id": "Ed5nPYI45tOZ",
        "colab_type": "text"
      },
      "source": [
        "Other similiar operations: `np.prod()`, `np.mean()`, `np.std()`, `np.amax()`, `np.amin()`"
      ]
    },
    {
      "cell_type": "code",
      "metadata": {
        "id": "o8hLi9xz5wn4",
        "colab_type": "code",
        "colab": {
          "base_uri": "https://localhost:8080/",
          "height": 199
        },
        "outputId": "d5b5ae0b-1980-4656-ab65-ed40b37ae116"
      },
      "source": [
        "a = np.arange(6, dtype=np.int32).reshape((2,3))\n",
        "print(\"The 2D 'a' array:\\n\", a)\n",
        "print(\"   ... its shape is\", a.shape)\n",
        "\n",
        "print(\"\\nProducts of array along axis#1: \", np.prod(a, axis=1))\n",
        "print(\"Mean of array along axis#0: \", np.mean(a, axis=0))\n",
        "print(\"Standard deviation of whole array: \", np.std(a))\n",
        "\n",
        "# np.maximum() is elmentwise maximum of multiple arrays\n",
        "# np.amax() is maximum along axis/axes of a single array\n",
        "\n",
        "print(\"\\nMaximum and minimum of array along axis#0: \", np.amax(a, axis=0), \"and\", np.amin(a, axis=0))\n"
      ],
      "execution_count": null,
      "outputs": [
        {
          "output_type": "stream",
          "text": [
            "The 2D 'a' array:\n",
            " [[0 1 2]\n",
            " [3 4 5]]\n",
            "   ... its shape is (2, 3)\n",
            "\n",
            "Products of array along axis#1:  [ 0 60]\n",
            "Mean of array along axis#0:  [1.5 2.5 3.5]\n",
            "Standard deviation of whole array:  1.707825127659933\n",
            "\n",
            "Maximum and minimum of array along axis#0:  [3 4 5] and [0 1 2]\n"
          ],
          "name": "stdout"
        }
      ]
    },
    {
      "cell_type": "markdown",
      "metadata": {
        "id": "ZALsWIhx9k1i",
        "colab_type": "text"
      },
      "source": [
        "Logical operations include: `np.all()`, `np.any()`"
      ]
    },
    {
      "cell_type": "code",
      "metadata": {
        "id": "TlsQyYRV9mTw",
        "colab_type": "code",
        "colab": {
          "base_uri": "https://localhost:8080/",
          "height": 181
        },
        "outputId": "296b3999-7668-4472-8922-165a15f720d9"
      },
      "source": [
        "a = np.arange(6, dtype=np.int32).reshape((2,3))\n",
        "b = (a % 2 == 1) | (a < 4)\n",
        "print(\"The 2D 'b' boolean array:\\n\", b)\n",
        "print(\"   ... its shape is\", b.shape)\n",
        "\n",
        "print(\"\\nLogical OR along axis#0: \", np.any(a, axis=0))\n",
        "print(\"Logical OR on whole array: \", np.any(a))\n",
        "print(\"Logical AND along axis#1: \", np.all(a, axis=1))\n",
        "print(\"Logical AND on whole array: \", np.all(a))\n",
        "\n"
      ],
      "execution_count": null,
      "outputs": [
        {
          "output_type": "stream",
          "text": [
            "The 2D 'b' boolean array:\n",
            " [[ True  True  True]\n",
            " [ True False  True]]\n",
            "   ... its shape is (2, 3)\n",
            "\n",
            "Logical OR along axis#0:  [ True  True  True]\n",
            "Logical OR on whole array:  True\n",
            "Logical AND along axis#1:  [False  True]\n",
            "Logical AND on whole array:  False\n"
          ],
          "name": "stdout"
        }
      ]
    },
    {
      "cell_type": "markdown",
      "metadata": {
        "id": "czxLzQRaN6gl",
        "colab_type": "text"
      },
      "source": [
        "## Advanced indexing\n",
        "\n",
        "In **Advanced indexing**, similarly to **basic indexing**, we reference multiple elements/slices of an array. However, while in **basic indexing** we can only reference elements in the index-intervals (range) by using one certain step size, in **advanced indexing** there are two other methods available to us.\n",
        "\n",
        "On one hand, we can use sequences (lists, iterators, integer arrays) for indexing.\n",
        "\n",
        "Arrays created using **advanced indexing** will always be **copies** of the original array, not views."
      ]
    },
    {
      "cell_type": "code",
      "metadata": {
        "id": "iOM03dNMEGJl",
        "colab_type": "code",
        "colab": {
          "base_uri": "https://localhost:8080/",
          "height": 144
        },
        "outputId": "ec081881-75d4-44a2-8bde-4ae639e3c535"
      },
      "source": [
        "a = np.arange(6, dtype=np.int32)+10\n",
        "print(\"The 'a' array:\", a)\n",
        "print(\"   ... its shape is\", a.shape)\n",
        "\n",
        "b = a[[1,3,3,-5]]   # indexing with a list of indices, negative indices are counted from backwards\n",
        "print(\"\\nThe 'b' array: \", b)\n",
        "\n",
        "# writing the 'b' array does not modify the original 'a' array\n",
        "b[0] = 42\n",
        "print(\"\\nThe modified 'b' array: \", b)\n",
        "print(\"The original 'a' array after modifying 'b': \", a)\n",
        "\n"
      ],
      "execution_count": null,
      "outputs": [
        {
          "output_type": "stream",
          "text": [
            "The 'a' array: [10 11 12 13 14 15]\n",
            "   ... its shape is (6,)\n",
            "\n",
            "The 'b' array:  [11 13 13 11]\n",
            "\n",
            "The modified 'b' array:  [42 13 13 11]\n",
            "The original 'a' array after modifying 'b':  [10 11 12 13 14 15]\n"
          ],
          "name": "stdout"
        }
      ]
    },
    {
      "cell_type": "markdown",
      "metadata": {
        "id": "_KphqeInCwB6",
        "colab_type": "text"
      },
      "source": [
        "Overwriting elements with advanced indexing:"
      ]
    },
    {
      "cell_type": "code",
      "metadata": {
        "id": "9ZMKDS5xC1Hh",
        "colab_type": "code",
        "colab": {
          "base_uri": "https://localhost:8080/",
          "height": 90
        },
        "outputId": "b65aa567-a1dd-43a7-9e80-d93c9a539ac7"
      },
      "source": [
        "a = np.arange(6, dtype=np.int32)+10\n",
        "print(\"The 'a' array:\", a)\n",
        "print(\"   ... its shape is\", a.shape)\n",
        "\n",
        "a[[1,5,2]] = 99\n",
        "print(\"\\nThe modified 'a' array:\", a)"
      ],
      "execution_count": null,
      "outputs": [
        {
          "output_type": "stream",
          "text": [
            "The 'a' array: [10 11 12 13 14 15]\n",
            "   ... its shape is (6,)\n",
            "\n",
            "The modified 'a' array: [10 99 99 13 14 99]\n"
          ],
          "name": "stdout"
        }
      ]
    },
    {
      "cell_type": "markdown",
      "metadata": {
        "id": "9z_XsRIUA-U9",
        "colab_type": "text"
      },
      "source": [
        "We can use an integer type array for indexing."
      ]
    },
    {
      "cell_type": "code",
      "metadata": {
        "id": "b58NU_H-BBST",
        "colab_type": "code",
        "colab": {
          "base_uri": "https://localhost:8080/",
          "height": 90
        },
        "outputId": "4b716a0b-2b17-4322-c8b9-1de4d19ab868"
      },
      "source": [
        "a = np.arange(6, dtype=np.int32)+10\n",
        "print(\"The 'a' array:\", a)\n",
        "print(\"   ... its shape is\", a.shape)\n",
        "\n",
        "idxs = np.array([0,2,0,-1,-4], dtype=np.int32)\n",
        "print(\"\\nThe 'a' array indexed with 'idxs' array:\", a[idxs])\n"
      ],
      "execution_count": null,
      "outputs": [
        {
          "output_type": "stream",
          "text": [
            "The 'a' array: [10 11 12 13 14 15]\n",
            "   ... its shape is (6,)\n",
            "\n",
            "The 'a' array indexed with 'idxs' array: [10 12 10 15 12]\n"
          ],
          "name": "stdout"
        }
      ]
    },
    {
      "cell_type": "markdown",
      "metadata": {
        "id": "mBuO8OfqBr0A",
        "colab_type": "text"
      },
      "source": [
        "If we index a 1-dimensional array with a multidimensional index array, the result will also be multidimensional."
      ]
    },
    {
      "cell_type": "code",
      "metadata": {
        "id": "hgf7bFHVB1nV",
        "colab_type": "code",
        "colab": {
          "base_uri": "https://localhost:8080/",
          "height": 181
        },
        "outputId": "97d6b1d3-59f9-4370-e6ef-f42715c008fa"
      },
      "source": [
        "idxs = np.array([[2,3],[5,2],[1,1]], dtype=np.int32)\n",
        "print(\"The 'idxs' array:\", idxs)\n",
        "print(\"   ... its shape is\", idxs.shape)\n",
        "\n",
        "b = a[idxs]\n",
        "print(\"\\nThe 'a' array indexed with the 2D 'idxs' array:\", b)\n",
        "print(\"   ... its shape is\", b.shape)"
      ],
      "execution_count": null,
      "outputs": [
        {
          "output_type": "stream",
          "text": [
            "The 'idxs' array: [[2 3]\n",
            " [5 2]\n",
            " [1 1]]\n",
            "   ... its shape is (3, 2)\n",
            "\n",
            "The 'a' array indexed with the 2D 'idxs' array: [[12 13]\n",
            " [15 12]\n",
            " [11 11]]\n",
            "   ... its shape is (3, 2)\n"
          ],
          "name": "stdout"
        }
      ]
    },
    {
      "cell_type": "markdown",
      "metadata": {
        "id": "wBlsU5u-CTmL",
        "colab_type": "text"
      },
      "source": [
        "If we index a multidimensional array, along each axis we can use different indexing techniques. If we create a new array using indexing and at least along one axis we use advanced indexing, then the new array will be a copy of our specific part of the original array, not a view of it.\n",
        "\n",
        "If we'd like to use a sequence to index along multiple axes, then the length of our two sequences must be equal. (If we use a multidimensional array for indexing along multiple axes, then the two index arrays must be broadcastable to the same shape).\n",
        "\n",
        "Full documentation at: https://docs.scipy.org/doc/numpy/reference/arrays.indexing.html\n",
        "\n",
        "If we'd like to select a list of elements from a 2 dimensional array, then along two axes we need one equal length sequence each to separately index the #0 and a #1 axis. For example if we'd like to return the `a[0,1], a[2,2], a[0,5]` elements, then we need to index as follows: `a[[0,2,0], [1,2,5]]`."
      ]
    },
    {
      "cell_type": "code",
      "metadata": {
        "id": "ovWcpqPkDcOR",
        "colab_type": "code",
        "colab": {
          "base_uri": "https://localhost:8080/",
          "height": 508
        },
        "outputId": "1a24d6c3-dbaf-4961-c6f5-4cf5cfe5d7cd"
      },
      "source": [
        "a = np.arange(6, dtype=np.int32).reshape((2,3))+10\n",
        "print(\"The 'a' array:\\n\", a)\n",
        "print(\"   ... its shape is\", a.shape)\n",
        "\n",
        "idxs0 = [0,1,0]\n",
        "idxs1 = [1,2,2]\n",
        "\n",
        "b = a[idxs0, idxs1]  # extracting a[0,1], a[1,2], a[0,2] into the 'b' array\n",
        "\n",
        "print(\"\\nThe 'b' array:\", b)\n",
        "print(\"   ... its shape is\", b.shape)\n",
        "\n",
        "# we can also use a tuple of lists/arrays/... to do multi-dimensional indexing\n",
        "idxs = (idxs0, idxs1)\n",
        "b = a[idxs]\n",
        "print(\"\\nThe 'b' array:\", b)\n",
        "print(\"   ... its shape is\", b.shape)\n",
        "\n",
        "# advanced indexing only along a single axis: extracting slices from 'a'\n",
        "c = a[[0,1,0],:]\n",
        "print(\"\\nThe 'c' array:\\n\", c)\n",
        "print(\"   ... its shape is\", c.shape)\n",
        "\n",
        "# advanced indexing along one axis, basic indexing along the other\n",
        "d = a[[0,1,0],::2]\n",
        "print(\"\\nThe 'd' array:\\n\", d)\n",
        "print(\"   ... its shape is\", d.shape)\n",
        "\n",
        "# e = a[[0,1,0],[0,2]]  # but we can't do this:\n",
        "#   IndexError: shape mismatch: indexing arrays could not be broadcast together with shapes (3,) (2,)\n",
        "\n",
        "# but we can do this: reshape #1 axis index array to (2,1) to be broadcastable to shape (2,3)\n",
        "#     and match #0 axis index array shape (3,)\n",
        "# indexed elements this way: [[a[0,0], a[1,0], a[0,0]], [a[0,2], a[1,2], a[0,2]]]\n",
        "f = a[np.array([0,1,0]), np.array([0,2])[:,None]]\n",
        "print(\"\\nThe 'f' array:\\n\", f)\n",
        "print(\"   ... its shape is\", f.shape)\n"
      ],
      "execution_count": null,
      "outputs": [
        {
          "output_type": "stream",
          "text": [
            "The 'a' array:\n",
            " [[10 11 12]\n",
            " [13 14 15]]\n",
            "   ... its shape is (2, 3)\n",
            "\n",
            "The 'b' array: [11 15 12]\n",
            "   ... its shape is (3,)\n",
            "\n",
            "The 'b' array: [11 15 12]\n",
            "   ... its shape is (3,)\n",
            "\n",
            "The 'c' array:\n",
            " [[10 11 12]\n",
            " [13 14 15]\n",
            " [10 11 12]]\n",
            "   ... its shape is (3, 3)\n",
            "\n",
            "The 'd' array:\n",
            " [[10 12]\n",
            " [13 15]\n",
            " [10 12]]\n",
            "   ... its shape is (3, 2)\n",
            "\n",
            "The 'f' array:\n",
            " [[10 13 10]\n",
            " [12 15 12]]\n",
            "   ... its shape is (2, 3)\n"
          ],
          "name": "stdout"
        }
      ]
    },
    {
      "cell_type": "markdown",
      "metadata": {
        "id": "EIFoxWKNIAfb",
        "colab_type": "text"
      },
      "source": [
        "Instead of using multidimensional indexing on a multidimensional array, the array we want to index can be flattened to a single dimension (`ndarray.reshape(-1)`), then the multidimensional indices can be converted into 1-dimensional indices (`np.ravel_multi_index()`), this way the indexing can now be done on the flattened array. This technique can be useful if we want to perform an operation on our multidimensional array that is implemented only for one-dimensional arrays. The array's original shape can be regained after this with `ndarray.reshape(<original_shape>)`. The indexes referencing elements of the flattened array can be converted back to multidimensional indexes (`np.unravel_index()`)."
      ]
    },
    {
      "cell_type": "markdown",
      "metadata": {
        "id": "R53LShqjJ2uz",
        "colab_type": "text"
      },
      "source": [
        "Another method of using **advanced indexing** is **indexing with a boolean mask**. Maskin can also happen along one or more axes. The point is that it must be possible to broadcast the mask's size to become compatible with the array's shape along the desired axes."
      ]
    },
    {
      "cell_type": "code",
      "metadata": {
        "id": "x9InpuA9KWOb",
        "colab_type": "code",
        "colab": {
          "base_uri": "https://localhost:8080/",
          "height": 271
        },
        "outputId": "038183fc-2cbe-470c-98cf-957b458982a0"
      },
      "source": [
        "a = np.arange(6, dtype=np.int32).reshape((2,3))\n",
        "print(\"The 'a' array:\\n\", a)\n",
        "print(\"   ... its shape is\", a.shape)\n",
        "\n",
        "mask = a < 4\n",
        "print(\"\\nThe 'mask' array:\\n\", mask)\n",
        "print(\"   ... its shape is\", mask.shape)\n",
        "print(\"   ... its data type is\", mask.dtype)\n",
        "\n",
        "b = a[mask]  # this is a copy, not a view!\n",
        "print(\"\\nThe 'b' array:\\n\", b)\n",
        "print(\"   ... its shape is\", b.shape)\n",
        "\n"
      ],
      "execution_count": null,
      "outputs": [
        {
          "output_type": "stream",
          "text": [
            "The 'a' array:\n",
            " [[0 1 2]\n",
            " [3 4 5]]\n",
            "   ... its shape is (2, 3)\n",
            "\n",
            "The 'mask' array:\n",
            " [[ True  True  True]\n",
            " [ True False False]]\n",
            "   ... its shape is (2, 3)\n",
            "   ... its data type is bool\n",
            "\n",
            "The 'b' array:\n",
            " [0 1 2 3]\n",
            "   ... its shape is (4,)\n"
          ],
          "name": "stdout"
        }
      ]
    },
    {
      "cell_type": "markdown",
      "metadata": {
        "id": "Eb-yHa3BK_A7",
        "colab_type": "text"
      },
      "source": [
        "Printing elements selected using a mask:"
      ]
    },
    {
      "cell_type": "code",
      "metadata": {
        "id": "PQ9d6FOCLDS6",
        "colab_type": "code",
        "colab": {
          "base_uri": "https://localhost:8080/",
          "height": 162
        },
        "outputId": "8a50b2d3-2e31-4a58-b064-b0c84dba6da6"
      },
      "source": [
        "a = np.arange(6, dtype=np.int32).reshape((2,3))\n",
        "print(\"The 'a' array:\\n\", a)\n",
        "print(\"   ... its shape is\", a.shape)\n",
        "\n",
        "a[(a % 2 == 0) | (a > 3)] = 99\n",
        "\n",
        "print(\"\\nThe modified 'a' array:\\n\", a)"
      ],
      "execution_count": null,
      "outputs": [
        {
          "output_type": "stream",
          "text": [
            "The 'a' array:\n",
            " [[0 1 2]\n",
            " [3 4 5]]\n",
            "   ... its shape is (2, 3)\n",
            "\n",
            "The modified 'a' array:\n",
            " [[99  1 99]\n",
            " [ 3 99 99]]\n"
          ],
          "name": "stdout"
        }
      ]
    },
    {
      "cell_type": "markdown",
      "metadata": {
        "id": "5cd0FCh1Lfv-",
        "colab_type": "text"
      },
      "source": [
        "It's possible to use a mask only along the certain axes that we want to.\n",
        "\n",
        "Let's zero out all the rows of array `a` that have at least one negative number!"
      ]
    },
    {
      "cell_type": "code",
      "metadata": {
        "id": "oJMc5g4pLx77",
        "colab_type": "code",
        "colab": {
          "base_uri": "https://localhost:8080/",
          "height": 253
        },
        "outputId": "38c869c2-8b86-4da4-92e0-6e5a9ef18e9d"
      },
      "source": [
        "a = np.array([[1.2,2.5],[1.,-.6],[2.8,1.7],[-1.5,.7]], dtype=np.float32)\n",
        "print(\"The 'a' array:\\n\", a)\n",
        "print(\"   ... its shape is\", a.shape)\n",
        "\n",
        "a[np.any(a < 0., axis=1),:] = 0.\n",
        "\n",
        "print(\"\\nThe modified 'a' array:\\n\", a)\n",
        "print(\"   ... its shape is\", a.shape)\n"
      ],
      "execution_count": null,
      "outputs": [
        {
          "output_type": "stream",
          "text": [
            "The 'a' array:\n",
            " [[ 1.2  2.5]\n",
            " [ 1.  -0.6]\n",
            " [ 2.8  1.7]\n",
            " [-1.5  0.7]]\n",
            "   ... its shape is (4, 2)\n",
            "\n",
            "The modified 'a' array:\n",
            " [[1.2 2.5]\n",
            " [0.  0. ]\n",
            " [2.8 1.7]\n",
            " [0.  0. ]]\n",
            "   ... its shape is (4, 2)\n"
          ],
          "name": "stdout"
        }
      ]
    },
    {
      "cell_type": "markdown",
      "metadata": {
        "id": "90Po9lI-MnHr",
        "colab_type": "text"
      },
      "source": [
        "It's possible to use sequences and masks for indexing at the same time on different axes of an array.\n",
        "\n",
        "A sequence can be created from a mask using the `np.where()` function."
      ]
    },
    {
      "cell_type": "markdown",
      "metadata": {
        "id": "XWuCtbpqOO0e",
        "colab_type": "text"
      },
      "source": [
        "## Concatenating arrays, inserting, deleting.\n",
        "\n",
        "It's important to know that if a Numpy array is allocated in memory, its size cannot be changed. If we'd like to append or delete an element/row/column/etc., perhaps concatenate multiple arrays, Numpy must always create a new array, which can be a costly operation."
      ]
    },
    {
      "cell_type": "markdown",
      "metadata": {
        "id": "FBiFCWeePuGJ",
        "colab_type": "text"
      },
      "source": [
        "**Concatenating:**\n",
        "\n",
        "`np.concatenate()`: Multiple arrays are concatenated along an already **existing** layer. It's important that all the axes, except the one used for concatenation, must be of equal length.\n",
        "\n",
        "`np.stack()`: Concatenates multiple arrays along a **new** axis. All arrays must have the same shape."
      ]
    },
    {
      "cell_type": "code",
      "metadata": {
        "id": "pWhEkkvjPpw2",
        "colab_type": "code",
        "colab": {
          "base_uri": "https://localhost:8080/",
          "height": 689
        },
        "outputId": "705b7f95-43b0-4127-b6e6-736b0c0bb2d6"
      },
      "source": [
        "# CONCATENATE\n",
        "\n",
        "a = np.arange(6, dtype=np.float32).reshape((2,3))\n",
        "print(\"The 2D 'a' array:\\n\", a)\n",
        "print(\"   ... its shape is\", a.shape)\n",
        "\n",
        "b = np.zeros((2,4), dtype=np.float32)\n",
        "print(\"\\nThe 2D 'b' array:\\n\", b)\n",
        "print(\"   ... its shape is\", b.shape)\n",
        "\n",
        "c = np.concatenate([a, b], axis=-1)\n",
        "print(\"\\nThe two arrays concatenated along their last axis:\\n\", c)\n",
        "print(\"   ... the concatenated array shape is\", c.shape)\n",
        "\n",
        "# STACK: all arrays must have the same shape\n",
        "\n",
        "d = b[:,:3]\n",
        "print(\"\\nThe 2D 'd' array:\\n\", d)\n",
        "print(\"   ... its shape is\", d.shape)\n",
        "\n",
        "e = np.stack([a, d], axis=0)\n",
        "print(\"\\nArrays 'a' and 'd' stacked along a new #0 axis:\\n\", e)\n",
        "print(\"   ... the new shape is\", e.shape)\n",
        "\n",
        "f = np.stack([a, d], axis=-1)\n",
        "print(\"\\nArrays 'a' and 'd' stacked along a new last (#2) axis:\\n\", f)\n",
        "print(\"   ... the new shape is\", f.shape)\n"
      ],
      "execution_count": null,
      "outputs": [
        {
          "output_type": "stream",
          "text": [
            "The 2D 'a' array:\n",
            " [[0. 1. 2.]\n",
            " [3. 4. 5.]]\n",
            "   ... its shape is (2, 3)\n",
            "\n",
            "The 2D 'b' array:\n",
            " [[0. 0. 0. 0.]\n",
            " [0. 0. 0. 0.]]\n",
            "   ... its shape is (2, 4)\n",
            "\n",
            "The two arrays concatenated along their last axis:\n",
            " [[0. 1. 2. 0. 0. 0. 0.]\n",
            " [3. 4. 5. 0. 0. 0. 0.]]\n",
            "   ... the concatenated array shape is (2, 7)\n",
            "\n",
            "The 2D 'd' array:\n",
            " [[0. 0. 0.]\n",
            " [0. 0. 0.]]\n",
            "   ... its shape is (2, 3)\n",
            "\n",
            "Arrays 'a' and 'd' stacked along a new #0 axis:\n",
            " [[[0. 1. 2.]\n",
            "  [3. 4. 5.]]\n",
            "\n",
            " [[0. 0. 0.]\n",
            "  [0. 0. 0.]]]\n",
            "   ... the new shape is (2, 2, 3)\n",
            "\n",
            "Arrays 'a' and 'd' stacked along a new last (#2) axis:\n",
            " [[[0. 0.]\n",
            "  [1. 0.]\n",
            "  [2. 0.]]\n",
            "\n",
            " [[3. 0.]\n",
            "  [4. 0.]\n",
            "  [5. 0.]]]\n",
            "   ... the new shape is (2, 3, 2)\n"
          ],
          "name": "stdout"
        }
      ]
    },
    {
      "cell_type": "markdown",
      "metadata": {
        "id": "VN9SRsYGy4gJ",
        "colab_type": "text"
      },
      "source": [
        "**Inserting and deleting elements:**\n",
        "\n",
        "If we'd like to use a loop to insert multiple elements/slices into an array, then it may be much more efficient if we used a list that contains the elements/slices we want to insert, then finally create an array with the list, using, for example, concatenation.\n",
        "\n",
        "For inserting a single element/slice we can use the `np.append()` and `np.insert()` operations.\n",
        "\n",
        "With the `np.pad()` operation, we can pad new elements to the edges of an array, even to multiple axes. \n",
        "\n",
        "Deleting elements is usually done with correct indexing instead of `np.delete()`."
      ]
    },
    {
      "cell_type": "markdown",
      "metadata": {
        "id": "093lh3T7AiVi",
        "colab_type": "text"
      },
      "source": [
        "## Matrix and vector operations, linear algebra"
      ]
    },
    {
      "cell_type": "markdown",
      "metadata": {
        "id": "w3FYWB4xN2Ed",
        "colab_type": "text"
      },
      "source": [
        "Matrix multiplication:"
      ]
    },
    {
      "cell_type": "code",
      "metadata": {
        "id": "ybKYMVPTN0jo",
        "colab_type": "code",
        "colab": {
          "base_uri": "https://localhost:8080/",
          "height": 326
        },
        "outputId": "c7e288ac-d066-43ba-d820-54f4d0133b88"
      },
      "source": [
        "m = np.arange(9, dtype=np.float32).reshape((3,3))   # 3 by 3 matrix\n",
        "print(\"The 'm' matrix:\\n\", m)\n",
        "print(\"   ... its shape is\", m.shape)\n",
        "\n",
        "mm = np.matmul(m, m)\n",
        "\n",
        "print(\"\\nThe matrix product is:\\n\", mm)\n",
        "print(\"   ... its shape is\", mm.shape)\n",
        "\n",
        "mm = np.dot(m, m)    # dot product: when applying on 2D matrices, has the same effect as np.matmul()\n",
        "\n",
        "print(\"\\nThe matrix product is:\\n\", mm)\n",
        "print(\"   ... its shape is\", mm.shape)"
      ],
      "execution_count": null,
      "outputs": [
        {
          "output_type": "stream",
          "text": [
            "The 'm' matrix:\n",
            " [[0. 1. 2.]\n",
            " [3. 4. 5.]\n",
            " [6. 7. 8.]]\n",
            "   ... its shape is (3, 3)\n",
            "\n",
            "The matrix product is:\n",
            " [[ 15.  18.  21.]\n",
            " [ 42.  54.  66.]\n",
            " [ 69.  90. 111.]]\n",
            "   ... its shape is (3, 3)\n",
            "\n",
            "The matrix product is:\n",
            " [[ 15.  18.  21.]\n",
            " [ 42.  54.  66.]\n",
            " [ 69.  90. 111.]]\n",
            "   ... its shape is (3, 3)\n"
          ],
          "name": "stdout"
        }
      ]
    },
    {
      "cell_type": "markdown",
      "metadata": {
        "id": "0LP-wKnLOjJr",
        "colab_type": "text"
      },
      "source": [
        "Non-square matrix, $M^T M$"
      ]
    },
    {
      "cell_type": "code",
      "metadata": {
        "id": "J4oyt4v2OrRM",
        "colab_type": "code",
        "colab": {
          "base_uri": "https://localhost:8080/",
          "height": 181
        },
        "outputId": "42055557-104b-4c78-c76b-2b65acb0d66b"
      },
      "source": [
        "m = np.arange(6, dtype=np.float32).reshape((2,3))   # 2 by 3 matrix\n",
        "print(\"The 'm' matrix:\\n\", m)\n",
        "print(\"   ... its shape is\", m.shape)\n",
        "\n",
        "mm = np.matmul(m, m.T)   # transpose: m.T or np.transpose(m)\n",
        "\n",
        "print(\"\\nThe matrix product is:\\n\", mm)\n",
        "print(\"   ... its shape is\", mm.shape)"
      ],
      "execution_count": null,
      "outputs": [
        {
          "output_type": "stream",
          "text": [
            "The 'm' matrix:\n",
            " [[0. 1. 2.]\n",
            " [3. 4. 5.]]\n",
            "   ... its shape is (2, 3)\n",
            "\n",
            "The matrix product is:\n",
            " [[ 5. 14.]\n",
            " [14. 50.]]\n",
            "   ... its shape is (2, 2)\n"
          ],
          "name": "stdout"
        }
      ]
    },
    {
      "cell_type": "markdown",
      "metadata": {
        "id": "i3ZN7sMRPs9b",
        "colab_type": "text"
      },
      "source": [
        "Multiplying a vector with a matrix:"
      ]
    },
    {
      "cell_type": "code",
      "metadata": {
        "id": "bFp7nOg8PwAK",
        "colab_type": "code",
        "colab": {
          "base_uri": "https://localhost:8080/",
          "height": 344
        },
        "outputId": "5b9f4e27-c66e-4749-9cb0-47d2053b24dc"
      },
      "source": [
        "m = np.arange(6, dtype=np.float32).reshape((2,3))   # 2 by 3 matrix\n",
        "print(\"The 'm' matrix:\\n\", m)\n",
        "print(\"   ... its shape is\", m.shape)\n",
        "v1 = np.arange(3, dtype=np.float32)\n",
        "print(\"The 'v1' vector:\\n\", v1)\n",
        "print(\"   ... its shape is\", v1.shape)\n",
        "\n",
        "# (2, 3) x (3,) -> (2,)\n",
        "\n",
        "r1 = np.dot(m, v1)\n",
        "print(\"\\nThe result vector:\\n\", r1)\n",
        "print(\"   ... its shape is\", r1.shape)\n",
        "\n",
        "# (2,) x (2, 3) -> (3,)\n",
        "\n",
        "v2 = v1[:2]\n",
        "print(\"The 'v2' vector:\\n\", v2)\n",
        "print(\"   ... its shape is\", v2.shape)\n",
        "\n",
        "r2 = np.dot(v2, m)\n",
        "print(\"\\nThe result vector:\\n\", r2)\n",
        "print(\"   ... its shape is\", r2.shape)"
      ],
      "execution_count": null,
      "outputs": [
        {
          "output_type": "stream",
          "text": [
            "The 'm' matrix:\n",
            " [[0. 1. 2.]\n",
            " [3. 4. 5.]]\n",
            "   ... its shape is (2, 3)\n",
            "The 'v1' vector:\n",
            " [0. 1. 2.]\n",
            "   ... its shape is (3,)\n",
            "\n",
            "The result vector:\n",
            " [ 5. 14.]\n",
            "   ... its shape is (2,)\n",
            "The 'v2' vector:\n",
            " [0. 1.]\n",
            "   ... its shape is (2,)\n",
            "\n",
            "The result vector:\n",
            " [3. 4. 5.]\n",
            "   ... its shape is (3,)\n"
          ],
          "name": "stdout"
        }
      ]
    },
    {
      "cell_type": "markdown",
      "metadata": {
        "id": "SxaYHB05PWKE",
        "colab_type": "text"
      },
      "source": [
        "Scalar multiplication of a vector:"
      ]
    },
    {
      "cell_type": "code",
      "metadata": {
        "id": "yCiPu-k3PNyV",
        "colab_type": "code",
        "colab": {
          "base_uri": "https://localhost:8080/",
          "height": 144
        },
        "outputId": "0eaa127f-61d4-4028-9113-4aeab79fd0da"
      },
      "source": [
        "v1 = np.arange(3)\n",
        "v2 = np.arange(3)\n",
        "print(\"\\nThe 'v1' vector:\", v1)\n",
        "print(\"   ... its shape is\", v1.shape)\n",
        "print(\"The 'v2' vector:\", v2)\n",
        "print(\"   ... its shape is\", v2.shape)\n",
        "\n",
        "print(\"\\nTheir dot product is: \", np.dot(v1, v2))"
      ],
      "execution_count": null,
      "outputs": [
        {
          "output_type": "stream",
          "text": [
            "\n",
            "The 'v1' vector: [0 1 2]\n",
            "   ... its shape is (3,)\n",
            "The 'v2' vector: [0 1 2]\n",
            "   ... its shape is (3,)\n",
            "\n",
            "Their dot product is:  5\n"
          ],
          "name": "stdout"
        }
      ]
    },
    {
      "cell_type": "markdown",
      "metadata": {
        "id": "5x6mA04HRJre",
        "colab_type": "text"
      },
      "source": [
        "Other important operations:"
      ]
    },
    {
      "cell_type": "code",
      "metadata": {
        "id": "ZU-J98y1RMDk",
        "colab_type": "code",
        "colab": {
          "base_uri": "https://localhost:8080/",
          "height": 399
        },
        "outputId": "a5b0e092-c727-4ea8-f1f9-bc83a8eba28d"
      },
      "source": [
        "m = np.array([[2., 1., 3.],[4., 2., 6.],[1., 1., 5.]], dtype=np.float32)\n",
        "print(\"The 'm' matrix:\\n\", m)\n",
        "print(\"   ... its shape is\", m.shape)\n",
        "\n",
        "print(\"\\nRank of matrix:\", np.linalg.matrix_rank(m)) # not full rank since row#1 == 2*row#0\n",
        "\n",
        "print(\"Determinant of matrix:\", np.linalg.det(m))  # zero since it is not full rank\n",
        "\n",
        "v1 = np.arange(3, dtype=np.float32)\n",
        "print(\"\\nThe 'v1' vector:\\n\", v1)\n",
        "print(\"   ... its shape is\", v1.shape)\n",
        "print(\"\\nLength of vector 'v1' (L2 norm):\", np.linalg.norm(v1, ord=2))   # ord=2 is the default (euclidean distance)\n",
        "\n",
        "print(\"\\nLength of row-vectors of 'm' mnatrix:\", np.linalg.norm(m, axis=1, ord=2))\n",
        "\n",
        "# euclidean distance of two points\n",
        "two_points = np.array([[1.,2.,-2.],[5., 3., 2.]])\n",
        "print(\"\\nTwo points:\\n\", two_points)\n",
        "\n",
        "vec_length = np.linalg.norm(two_points[0,:] - two_points[1,:], ord=2)\n",
        "print(\"  ... their distance:\", vec_length)"
      ],
      "execution_count": null,
      "outputs": [
        {
          "output_type": "stream",
          "text": [
            "The 'm' matrix:\n",
            " [[2. 1. 3.]\n",
            " [4. 2. 6.]\n",
            " [1. 1. 5.]]\n",
            "   ... its shape is (3, 3)\n",
            "\n",
            "Rank of matrix: 2\n",
            "Determinant of matrix: 0.0\n",
            "\n",
            "The 'v1' vector:\n",
            " [0. 1. 2.]\n",
            "   ... its shape is (3,)\n",
            "\n",
            "Length of vector 'v1' (L2 norm): 2.236068\n",
            "\n",
            "Length of row-vectors of 'm' mnatrix: [3.7416575 7.483315  5.196152 ]\n",
            "\n",
            "Two points:\n",
            " [[ 1.  2. -2.]\n",
            " [ 5.  3.  2.]]\n",
            "  ... their distance: 5.744562646538029\n"
          ],
          "name": "stdout"
        }
      ]
    },
    {
      "cell_type": "markdown",
      "metadata": {
        "id": "7K5ryubyVdmo",
        "colab_type": "text"
      },
      "source": [
        "## Other useful Numpy operations"
      ]
    },
    {
      "cell_type": "markdown",
      "metadata": {
        "id": "Hpv3cLcDViTd",
        "colab_type": "text"
      },
      "source": [
        "Sorting, counting, searching:\n",
        "\n",
        "https://docs.scipy.org/doc/numpy-1.13.0/reference/routines.sort.html\n",
        "\n",
        "Set operations:\n",
        "\n",
        "https://docs.scipy.org/doc/numpy-1.13.0/reference/routines.set.html"
      ]
    },
    {
      "cell_type": "markdown",
      "metadata": {
        "id": "PymjzgG4WD73",
        "colab_type": "text"
      },
      "source": [
        "`np.apply_along_axis()`: This operation performs a function that is defined for 1-dimensional arrays, on a multidimensional array's 1-dimensional slices, then concatenates the results. Although this function may be useful at times, we must know that this technique is about as useful as writing a simple Python loop to keep calling the function on the sliced array, then concatenating the results. So **if we want to perform the inner operation on many small slices, this method is not efficient.**"
      ]
    }
  ]
}